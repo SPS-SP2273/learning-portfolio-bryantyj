{
 "cells": [
  {
   "cell_type": "markdown",
   "id": "c1045788",
   "metadata": {},
   "source": [
    "Write a Python program that prints out all colors from color_list_1 that are not present in color_list_2. Go to the editor\n",
    "Test Data :\n",
    "color_list_1 = set([\"White\", \"Black\", \"Red\"])\n",
    "color_list_2 = set([\"Red\", \"Green\"])\n",
    "Expected Output :\n",
    "{'Black', 'White'}"
   ]
  },
  {
   "cell_type": "code",
   "execution_count": 27,
   "id": "2b829e3c",
   "metadata": {},
   "outputs": [
    {
     "data": {
      "text/plain": [
       "[]"
      ]
     },
     "execution_count": 27,
     "metadata": {},
     "output_type": "execute_result"
    }
   ],
   "source": [
    "import numpy as np\n",
    "\n",
    "color_1= set([\"White\", \"Black\", \"Red\"])\n",
    "color_2= set([\"Red\", \"Green\"])\n",
    "x = []\n",
    "\n",
    "for i in color_1:\n",
    "    if i == np.any(color_2):\n",
    "            x.append(i)\n",
    "x"
   ]
  },
  {
   "cell_type": "markdown",
   "id": "aa0074d8",
   "metadata": {},
   "source": [
    "HCF"
   ]
  },
  {
   "cell_type": "code",
   "execution_count": 16,
   "id": "3e1a4ab5",
   "metadata": {},
   "outputs": [
    {
     "name": "stdout",
     "output_type": "stream",
     "text": [
      "Number 1:10\n",
      "Number 2:40\n",
      "10\n"
     ]
    }
   ],
   "source": [
    "number_1 = int(input('Number 1:'))\n",
    "number_2 = int(input('Number 2:'))\n",
    "\n",
    "assert number_1 > 0, 'Error cat'\n",
    "assert number_2 > 0, 'Error dog'\n",
    "\n",
    "y=[]\n",
    "z=[]\n",
    "a=[]\n",
    "\n",
    "for i in range (1, max(number_1, number_2)):\n",
    "    if number_1 % i == 0:\n",
    "        y.append(i)\n",
    "    if number_2 % i == 0:\n",
    "        z.append(i)\n",
    "        \n",
    "for j in y:\n",
    "    for k in z:\n",
    "         if j == k:\n",
    "            a.append(j)\n",
    "        \n",
    "print(max(a))"
   ]
  },
  {
   "cell_type": "markdown",
   "id": "0e0c93f7",
   "metadata": {},
   "source": [
    "LCM"
   ]
  },
  {
   "cell_type": "code",
   "execution_count": 15,
   "id": "da0c2f28",
   "metadata": {},
   "outputs": [
    {
     "name": "stdout",
     "output_type": "stream",
     "text": [
      "Number 1:3\n",
      "Number 2:7\n",
      "21\n"
     ]
    }
   ],
   "source": [
    "number_1 = int(input('Number 1:'))\n",
    "number_2 = int(input('Number 2:'))\n",
    "\n",
    "assert number_1 > 0, 'Burden zzz'\n",
    "assert number_2 > 0, 'Dog zzz'\n",
    "\n",
    "ans=[]\n",
    "\n",
    "for i in range (1, number_1*number_2+1):\n",
    "    if i % number_1 ==0 and i % number_2==0:\n",
    "        ans.append(i)\n",
    "\n",
    "print(min(ans))"
   ]
  },
  {
   "cell_type": "code",
   "execution_count": 3,
   "id": "6fabe66b",
   "metadata": {},
   "outputs": [
    {
     "name": "stdout",
     "output_type": "stream",
     "text": [
      "Number 1:10\n",
      "Number 2:10\n",
      "Number 3:10\n",
      "30\n"
     ]
    }
   ],
   "source": [
    "number_1 = int(input('Number 1:'))\n",
    "number_2 = int(input('Number 2:'))\n",
    "number_3 = int(input('Number 3:'))\n",
    "\n",
    "if number_1==number_2==number_3:\n",
    "    print(number_1+number_2+number_3)\n",
    "elif number_1==number_2 or number_1==number_3 or number_2==number_3:\n",
    "    print('0')\n",
    "else:\n",
    "    print(number_1+number_2+number_3)"
   ]
  },
  {
   "cell_type": "code",
   "execution_count": 17,
   "id": "e83c1107",
   "metadata": {},
   "outputs": [
    {
     "name": "stdout",
     "output_type": "stream",
     "text": [
      "Number 1:10\n",
      "Number 2:6\n",
      "20\n"
     ]
    }
   ],
   "source": [
    "number_1 = int(input('Number 1:'))\n",
    "number_2 = int(input('Number 2:'))\n",
    "\n",
    "if number_1+number_2>=15 and number_1+number_2<=20:\n",
    "    print('20')\n",
    "else:\n",
    "    print(number_1+number_2)"
   ]
  },
  {
   "cell_type": "code",
   "execution_count": 1,
   "id": "c92da5bf",
   "metadata": {},
   "outputs": [
    {
     "name": "stdout",
     "output_type": "stream",
     "text": [
      "Number 1:2\n",
      "Number 2:3\n",
      "5\n"
     ]
    }
   ],
   "source": [
    "number_1 = int(input('Number 1:'))\n",
    "number_2 = int(input('Number 2:'))\n",
    "\n",
    "if number_1==number_2 or number_1-number_2==5 or number_2-number_1==5:\n",
    "    print('True')\n",
    "else:\n",
    "    print(number_1+number_2)"
   ]
  },
  {
   "cell_type": "code",
   "execution_count": null,
   "id": "2c391ab6",
   "metadata": {},
   "outputs": [],
   "source": []
  }
 ],
 "metadata": {
  "kernelspec": {
   "display_name": "Python 3 (ipykernel)",
   "language": "python",
   "name": "python3"
  },
  "language_info": {
   "codemirror_mode": {
    "name": "ipython",
    "version": 3
   },
   "file_extension": ".py",
   "mimetype": "text/x-python",
   "name": "python",
   "nbconvert_exporter": "python",
   "pygments_lexer": "ipython3",
   "version": "3.10.8"
  }
 },
 "nbformat": 4,
 "nbformat_minor": 5
}
