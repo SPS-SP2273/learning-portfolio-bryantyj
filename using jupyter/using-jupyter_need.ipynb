{
 "cells": [
  {
   "cell_type": "markdown",
   "id": "c0bc612f",
   "metadata": {},
   "source": [
    "print('Hello World')"
   ]
  },
  {
   "cell_type": "markdown",
   "id": "1163470e",
   "metadata": {},
   "source": [
    "The ships hung in the sky in much the same way that bricks don’t.\n",
    "\n"
   ]
  },
  {
   "cell_type": "code",
   "execution_count": 1,
   "id": "d66944f4",
   "metadata": {},
   "outputs": [],
   "source": [
    "import os"
   ]
  },
  {
   "cell_type": "code",
   "execution_count": 2,
   "id": "2736031d",
   "metadata": {},
   "outputs": [
    {
     "data": {
      "text/plain": [
       "'/Users/bryantan'"
      ]
     },
     "execution_count": 2,
     "metadata": {},
     "output_type": "execute_result"
    }
   ],
   "source": [
    "os.getcwd()"
   ]
  },
  {
   "cell_type": "code",
   "execution_count": 1,
   "id": "200613f2",
   "metadata": {},
   "outputs": [
    {
     "ename": "SyntaxError",
     "evalue": "unterminated string literal (detected at line 1) (44647900.py, line 1)",
     "output_type": "error",
     "traceback": [
      "\u001b[0;36m  Cell \u001b[0;32mIn[1], line 1\u001b[0;36m\u001b[0m\n\u001b[0;31m    The ships *hung in the the sky* in much the same way that **bricks don't.**<sup>1</sup><sub>QUOTE</sub>\u001b[0m\n\u001b[0m                                                                          ^\u001b[0m\n\u001b[0;31mSyntaxError\u001b[0m\u001b[0;31m:\u001b[0m unterminated string literal (detected at line 1)\n"
     ]
    }
   ],
   "source": [
    "The ships *hung in the the sky* in much the same way that **bricks don't.**<sup>1</sup><sub>QUOTE</sub>\n"
   ]
  },
  {
   "cell_type": "code",
   "execution_count": null,
   "id": "b1a9180e",
   "metadata": {},
   "outputs": [],
   "source": [
    "The ships *hung in the sky* in much the same way that **bricks don't.**\n",
    "<sup>1</sup><sub>QUOTE</sub>\n"
   ]
  },
  {
   "cell_type": "code",
   "execution_count": null,
   "id": "b11ddb12",
   "metadata": {},
   "outputs": [],
   "source": [
    "The ships *hung in the sky* in much the same way that **bricks dont.**<sup>1</sup><sub>QUOTE</sub>"
   ]
  },
  {
   "cell_type": "code",
   "execution_count": null,
   "id": "8b83dbf6",
   "metadata": {},
   "outputs": [],
   "source": [
    "The ships *hung in the sky* in much the same way that **bricks don't.**\n",
    "<sup>1</sup><sub>QUOTE</sub>"
   ]
  },
  {
   "cell_type": "markdown",
   "id": "82094279",
   "metadata": {},
   "source": [
    "The ships *hung in the sky* in much the same way that **bricks don't.**\n",
    "<sup>1</sup><sub>QUOTE</sub>\n"
   ]
  },
  {
   "cell_type": "markdown",
   "id": "a3bef1bf",
   "metadata": {},
   "source": [
    "# SP2273\n",
    "## Jupyter (need)\n",
    "### Smaller SP2273\n",
    "##### Smallest SP2273"
   ]
  },
  {
   "cell_type": "code",
   "execution_count": null,
   "id": "dc8279df",
   "metadata": {},
   "outputs": [],
   "source": [
    "`print ('Hello World')`"
   ]
  },
  {
   "cell_type": "markdown",
   "id": "3c635490",
   "metadata": {},
   "source": [
    "print('Hello World')\n"
   ]
  },
  {
   "cell_type": "code",
   "execution_count": null,
   "id": "51f2fcec",
   "metadata": {},
   "outputs": [],
   "source": [
    "`print ('Hello World!')`"
   ]
  },
  {
   "cell_type": "markdown",
   "id": "99952b77",
   "metadata": {},
   "source": [
    "`print ('Hello World!')`"
   ]
  },
  {
   "cell_type": "markdown",
   "id": "b008d33b",
   "metadata": {},
   "source": [
    "```python\n",
    "print ('Hello World')\n",
    "```"
   ]
  },
  {
   "cell_type": "code",
   "execution_count": null,
   "id": "d45dacb2",
   "metadata": {},
   "outputs": [],
   "source": [
    "[SP2273 Website](https://sps.nus.edu.sg/sp2273)"
   ]
  },
  {
   "cell_type": "code",
   "execution_count": null,
   "id": "b8ffa36c",
   "metadata": {},
   "outputs": [],
   "source": [
    "[SP2273 Website](http://sps.nus.edu.sg/sp2273)"
   ]
  },
  {
   "cell_type": "code",
   "execution_count": null,
   "id": "cea1693b",
   "metadata": {},
   "outputs": [],
   "source": [
    "[SP2273 Website](https://sps.nus.edu.sg/sp2273)"
   ]
  },
  {
   "cell_type": "markdown",
   "id": "3bd1c8cd",
   "metadata": {},
   "source": [
    "[SP2273](https://sps.nus.edu.sg/sp2273)"
   ]
  },
  {
   "cell_type": "code",
   "execution_count": null,
   "id": "f380173c",
   "metadata": {},
   "outputs": [],
   "source": [
    "[SP2273 Website] (https://sps.nus.edu.sg/sp2273)"
   ]
  },
  {
   "cell_type": "markdown",
   "id": "75903142",
   "metadata": {},
   "source": [
    "[SP2273 Website] (https://sps.nus.edu.sg/sp2273)"
   ]
  },
  {
   "cell_type": "markdown",
   "id": "b6c3acfa",
   "metadata": {},
   "source": [
    "[SP2273 Website](https://sps.nus.edu.sg/sp2273)"
   ]
  },
  {
   "cell_type": "code",
   "execution_count": null,
   "id": "3bd43a86",
   "metadata": {},
   "outputs": [],
   "source": [
    "![](https://nus.edu.sg/images/default-source/base/logo.png)"
   ]
  },
  {
   "cell_type": "markdown",
   "id": "6c76634d",
   "metadata": {},
   "source": [
    "![](https://nus.edu.sg/images/default-source/base/logo.png)"
   ]
  },
  {
   "cell_type": "markdown",
   "id": "e327c1cd",
   "metadata": {},
   "source": [
    "![NUS](https://nus.edu.sg/images/default-source/base/logo.png)"
   ]
  },
  {
   "cell_type": "code",
   "execution_count": null,
   "id": "97c3c8c4",
   "metadata": {},
   "outputs": [],
   "source": [
    "![](https://nus.edu.sg/images/default-source/base/logo.png)"
   ]
  },
  {
   "cell_type": "markdown",
   "id": "ecb06990",
   "metadata": {},
   "source": [
    "![NUSSTU](https://nus.edu.sg/images/default-source/base/logo.png)"
   ]
  },
  {
   "cell_type": "code",
   "execution_count": null,
   "id": "981c7853",
   "metadata": {},
   "outputs": [],
   "source": [
    "![](/Users/bryantan/Desktop/SP2273 Learning Portfolio/Testing/24 is the answer)"
   ]
  },
  {
   "cell_type": "markdown",
   "id": "2d8c7bcc",
   "metadata": {},
   "source": [
    "| A   | B   | C   |\n",
    "| :---| :--:| ---:|\n",
    "| a1  | b1  | c1  |\n",
    "|a2   |b2   |c2   |\n",
    "|  a3 |  b3 |  c3 |"
   ]
  },
  {
   "cell_type": "markdown",
   "id": "7c164fc1",
   "metadata": {},
   "source": [
    "| A    |  B   |    C |\n",
    "| :--- | :--: | ---: |\n",
    "| a1   |  b1  |   c1 |\n",
    "| a2   |  b2  |   c2 |\n",
    "| a3   |  b3  |   c3 |"
   ]
  },
  {
   "cell_type": "markdown",
   "id": "c66ceef1",
   "metadata": {},
   "source": [
    "| A    |  B   |    C |\n",
    "| :--- | :--: | ---: |\n",
    "| a1   |  b1fdrrere  |   c1 |\n",
    "| a2   |  b2  |   c2 |\n",
    "| a3   |  b3  |   c3 |"
   ]
  },
  {
   "cell_type": "code",
   "execution_count": null,
   "id": "3518aaba",
   "metadata": {},
   "outputs": [],
   "source": [
    "1. Master Yoda\n",
    "1. Luke Skywalker\n",
    "1. Anakin Skywalker"
   ]
  },
  {
   "cell_type": "markdown",
   "id": "425a5ff9",
   "metadata": {},
   "source": [
    "1. Master Yoda\n",
    "1. Luke Skywalker\n",
    "1. Anakin Skywalker"
   ]
  },
  {
   "cell_type": "markdown",
   "id": "2a08f7a1",
   "metadata": {},
   "source": [
    "1. Master Yoda\n",
    "2. Luke Skywalker\n",
    "3. Anakin Skywalker"
   ]
  },
  {
   "cell_type": "markdown",
   "id": "9fe6f782",
   "metadata": {},
   "source": [
    "- Master Yoda\n",
    "- Luke Skywalker\n",
    "- Anakin Skywalker"
   ]
  },
  {
   "cell_type": "code",
   "execution_count": null,
   "id": "92983b4f",
   "metadata": {},
   "outputs": [],
   "source": [
    "-Master Yoda\n",
    "- Luke Skywalker\n",
    "- Anakin Skywalker"
   ]
  },
  {
   "cell_type": "code",
   "execution_count": null,
   "id": "7d9419f1",
   "metadata": {},
   "outputs": [],
   "source": [
    "-Master Yoda\n",
    "-Luke Skywalker\n",
    "-Anakin Skywalker"
   ]
  },
  {
   "cell_type": "code",
   "execution_count": null,
   "id": "7de6d1ad",
   "metadata": {},
   "outputs": [],
   "source": [
    "- Master Yoda\n",
    "- Luke Skywalker\n",
    "- Anakin Skywalker"
   ]
  },
  {
   "cell_type": "markdown",
   "id": "cdcb77fc",
   "metadata": {},
   "source": [
    "1. Master Yoda\n",
    "1. Luke Skywalker\n",
    "1. Anakin Skywalker"
   ]
  },
  {
   "cell_type": "code",
   "execution_count": null,
   "id": "aa7e6f5c",
   "metadata": {},
   "outputs": [],
   "source": [
    "1.Master Yoda\n",
    "1. Luke Skywalker\n",
    "1. Anakin Skywalker"
   ]
  },
  {
   "cell_type": "code",
   "execution_count": null,
   "id": "d39eaec0",
   "metadata": {},
   "outputs": [],
   "source": [
    "1.Master Yoda\n",
    "1.Luke Skywalker\n",
    "1.Anakin Skywalker"
   ]
  },
  {
   "cell_type": "code",
   "execution_count": null,
   "id": "9d9e8dd1",
   "metadata": {},
   "outputs": [],
   "source": [
    "1. Master Yoda\n",
    "   1. Was a Jedi\n",
    "   1. Was a bit green\n",
    "1. Luke Skywalker\n",
    "   1. Was a Jedi\n",
    "   1. Is Anakin's son.\n",
    "1. Anakin Skywalker\n",
    "   1. Was a Jedi then became a baddie\n",
    "   1. Is famous for saying 'Luke, I am your father'"
   ]
  },
  {
   "cell_type": "markdown",
   "id": "f8e65c0f",
   "metadata": {},
   "source": [
    "1. Master Yoda\n",
    "   1. Was a Jedi\n",
    "   1. Was a bit green\n",
    "1. Luke Skywalker\n",
    "   1. Was a Jedi\n",
    "   1. Is Anakin's son.\n",
    "1. Anakin Skywalker\n",
    "   1. Was a Jedi then became a baddie\n",
    "   1. Is famous for saying 'Luke, I am your father'\n",
    "   "
   ]
  },
  {
   "cell_type": "markdown",
   "id": "f5274e78",
   "metadata": {},
   "source": [
    "1. Master Yoda\n",
    "   1. Was a Jedi\n",
    "   1. Was a bit green\n",
    "1. Luke Skywalker\n",
    "   1. Was a Jedi\n",
    "   1. Is Anakin's son.\n",
    "1. Anakin Skywalker\n",
    "   1. Was a Jedi then became a baddie\n",
    "   1. Is famous for saying 'Luke, I am your father'"
   ]
  },
  {
   "cell_type": "markdown",
   "id": "3c38bc46",
   "metadata": {},
   "source": [
    "1. Master Yoda\n",
    "   - Was a Jedi\n",
    "   - Was a bit green\n",
    "2. Luke Skywalker\n",
    "   - Was a Jedi\n",
    "   - Is Anakin's son.\n",
    "3. Anakin Skywalker\n",
    "   - Was a Jedi then became a baddie\n",
    "   - Is famous for saying 'Luke, I am your father'"
   ]
  },
  {
   "cell_type": "markdown",
   "id": "4b642083",
   "metadata": {},
   "source": [
    "$\\sqrt{b^2-4ac}$\n"
   ]
  },
  {
   "cell_type": "code",
   "execution_count": null,
   "id": "93a55e69",
   "metadata": {},
   "outputs": [],
   "source": [
    "$$\n",
    "x = \\dfrac{-b \\pm \\sqrt{b^2-4ac}}{2a}\n",
    "$$\n"
   ]
  },
  {
   "cell_type": "markdown",
   "id": "b994da1d",
   "metadata": {},
   "source": [
    "$$\n",
    "x = \\dfrac{-b \\pm \\sqrt{b^2-4ac}}{2a}\n",
    "$$"
   ]
  },
  {
   "cell_type": "markdown",
   "id": "8772e45d",
   "metadata": {},
   "source": [
    "**Quadradic Equations**\n",
    "![](https://en.wikipedia.org/wiki/File:Polynomialdeg2.svg)\n",
    "\n",
    "**Introduction**\n",
    "\n",
    "The general form of a equation is:\n",
    "\n",
    "$$\n",
    "ax^2 + bx+ c = 0\n",
    "$$\n",
    "\n",
    "**Solutions** Provide $a=/0$, we can use an elementary algebraic method called [completing the square](https://en.wikipedia.org/wiki/Quadratic_equation) to show that a quadratic equation has the following solution:\n",
    "$$\n",
    "x = \\dfrac{-b \\pm \\sqrt{b^2-4ac}}{2a}\n",
    "$$\n",
    "\n",
    "**Discriminant**\n",
    "\n",
    "The quantity $ $\\delta$=b^2-4ac $ is called the discriminant of the equation and decides the nature of its solutions. The table below shows the various possibilities.\n",
    "|**Discriminant**|**Roots**|\n",
    "|:---|---:|\n",
    "|$\\delta=b^2-4ac \\eq 0$|A single solution of $-b/(2a)$|\n",
    "|$\\delta=b^2-4ac \\gt 0$|Two distinct solutions|\n",
    "|$\\delta=b^2-4ac \\lt 0$|No real solutions; both are complex|\n"
   ]
  },
  {
   "cell_type": "markdown",
   "id": "7d3abc97",
   "metadata": {},
   "source": [
    "**Quadradic Equations**\n",
    "![](https://en.wikipedia.org/wiki/File:Polynomialdeg2.svg)\n",
    "\n",
    "**Introduction**\n",
    "\n",
    "The general form of a equation is:\n",
    "\n",
    "$$\n",
    "ax^2 + bx+ c = 0\n",
    "$$\n",
    "\n",
    "**Solutions** Provide $a \\ne b$, we can use an elementary algebraic method called [completing the square](https://en.wikipedia.org/wiki/Quadratic_equation) to show that a quadratic equation has the following solution:\n",
    "$$\n",
    "x = \\dfrac{-b \\pm \\sqrt{b^2-4ac}}{2a}\n",
    "$$\n",
    "\n",
    "**Discriminant**\n",
    "\n",
    "The quantity $ $\\delta$=b^2-4ac $ is called the discriminant of the equation and decides the nature of its solutions. The table below shows the various possibilities.\n",
    "| Discriminant  |  Roots |\n",
    "|:---|---:|\n",
    "|$\\delta=b^2-4ac \\eq 0$|A single solution of $-b/(2a)$|\n",
    "|$\\delta=b^2-4ac \\gt 0$|Two distinct solutions|\n",
    "|$\\delta=b^2-4ac \\lt 0$|No real solutions; both are complex|"
   ]
  },
  {
   "cell_type": "markdown",
   "id": "194d5c5b",
   "metadata": {},
   "source": [
    "**Quadradic Equations**\n",
    "![](https://en.wikipedia.org/wiki/File:Polynomialdeg2.svg)\n",
    "\n",
    "**Introduction**\n",
    "\n",
    "The general form of a equation is:\n",
    "\n",
    "$$\n",
    "ax^2 + bx+ c = 0\n",
    "$$\n",
    "\n",
    "**Solutions** Provide $a \\ne b$, we can use an elementary algebraic method called [completing the square](https://en.wikipedia.org/wiki/Quadratic_equation) to show that a quadratic equation has the following solution:\n",
    "$$\n",
    "x = \\dfrac{-b \\pm \\sqrt{b^2-4ac}}{2a}\n",
    "$$\n",
    "\n",
    "**Discriminant**\n",
    "\n",
    "The quantity $ $\\delta$=b^2-4ac $ is called the discriminant of the equation and decides the nature of its solutions. The table below shows the various possibilities.\n",
    "\n",
    "| Discriminant  |  Roots |\n",
    "|:---|---:|\n",
    "|$\\delta=b^2-4ac \\eq 0$|A single solution of $-b/(2a)$|\n",
    "|$\\delta=b^2-4ac \\gt 0$|Two distinct solutions|\n",
    "|$\\delta=b^2-4ac \\lt 0$|No real solutions; both are complex|"
   ]
  },
  {
   "cell_type": "code",
   "execution_count": null,
   "id": "bbe0a3b8",
   "metadata": {},
   "outputs": [],
   "source": [
    "**Quadradic Equations**\n",
    "![](https://en.wikipedia.org/wiki/File:Polynomialdeg2.svg)\n",
    "\n",
    "**Introduction**\n",
    "\n",
    "The general form of a equation is:\n",
    "\n",
    "$$\n",
    "ax^2 + bx+ c = 0\n",
    "$$\n",
    "\n",
    "**Solutions** Provide $a \\ne 0$, we can use an elementary algebraic method called [completing the square](https://en.wikipedia.org/wiki/Quadratic_equation) to show that a quadratic equation has the following solution:\n",
    "$$\n",
    "x = \\dfrac{-b \\pm \\sqrt{b^2-4ac}}{2a}\n",
    "$$\n",
    "\n",
    "**Discriminant**\n",
    "\n",
    "The quantity $ $\\delta$=b^2-4ac $ is called the discriminant of the equation and decides the nature of its solutions. The table below shows the various possibilities.\n",
    "| Discriminant  |  Roots |\n",
    "|:---|---:|\n",
    "|$\\delta=b^2-4ac \\ne 0$|A single solution of $-b/(2a)$|\n",
    "|$\\delta=b^2-4ac \\gt 0$|Two distinct solutions|\n",
    "|$\\delta=b^2-4ac \\lt 0$|No real solutions; both are complex|"
   ]
  },
  {
   "cell_type": "markdown",
   "id": "4e6290f4",
   "metadata": {},
   "source": [
    "**Quadradic Equations**\n",
    "![](https://en.wikipedia.org/wiki/File:Polynomialdeg2.svg)\n",
    "\n",
    "**Introduction**\n",
    "\n",
    "The general form of a equation is:\n",
    "\n",
    "$$\n",
    "ax^2 + bx+ c = 0\n",
    "$$\n",
    "\n",
    "**Solutions** Provide $a \\ne 0$, we can use an elementary algebraic method called [completing the square](https://en.wikipedia.org/wiki/Quadratic_equation) to show that a quadratic equation has the following solution:\n",
    "$$\n",
    "x = \\dfrac{-b \\pm \\sqrt{b^2-4ac}}{2a}\n",
    "$$\n",
    "\n",
    "**Discriminant**\n",
    "\n",
    "The quantity $ $\\delta$=b^2-4ac $ is called the discriminant of the equation and decides the nature of its solutions. The table below shows the various possibilities.\n",
    "| Discriminant  |  Roots |\n",
    "|:---|---:|\n",
    "|$\\delta=b^2-4ac \\ne 0$|A single solution of $-b/(2a)$|\n",
    "|$\\delta=b^2-4ac \\gt 0$|Two distinct solutions|\n",
    "|$\\delta=b^2-4ac \\lt 0$|No real solutions; both are complex|"
   ]
  },
  {
   "cell_type": "markdown",
   "id": "d7d268d9",
   "metadata": {},
   "source": [
    "**Quadradic Equations**\n",
    "![](https://upload.wikimedia.org/wikipedia/commons/thumb/f/f8/Polynomialdeg2.svg/600px-Polynomialdeg2.svg.png)\n",
    "(Image from the [Wikipedia page on Quadratic equations](https://en.wikipedia.org/wiki/File:Polynomialdeg2.svg))\n",
    "\n",
    "**Introduction**\n",
    "\n",
    "The general form of a equation is:\n",
    "\n",
    "$$\n",
    "ax^2 + bx+ c = 0\n",
    "$$\n",
    "\n",
    "**Solutions** Provide $a \\ne 0$, we can use an elementary algebraic method called [completing the square](https://en.wikipedia.org/wiki/Quadratic_equation) to show that a quadratic equation has the following solution:\n",
    "$$\n",
    "x = \\dfrac{-b \\pm \\sqrt{b^2-4ac}}{2a}\n",
    "$$\n",
    "\n",
    "**Discriminant**\n",
    "\n",
    "The quantity $\\Delta$$=b^2-4ac$ is called the discriminant of the equation and decides the nature of its solutions. The table below shows the various possibilities.\n",
    "\n",
    "| Discriminant  |  Roots |\n",
    "|:---|---:|\n",
    "|$\\Delta=b^2-4ac \\ne 0$|A single solution of $-b/(2a)$|\n",
    "|$\\Delta=b^2-4ac \\gt 0$|Two distinct solutions|\n",
    "|$\\Delta=b^2-4ac \\lt 0$|No real solutions; both are complex|"
   ]
  },
  {
   "cell_type": "code",
   "execution_count": null,
   "id": "3d909af1",
   "metadata": {},
   "outputs": [],
   "source": []
  },
  {
   "cell_type": "markdown",
   "id": "24bea027",
   "metadata": {},
   "source": [
    "What is a repository?"
   ]
  },
  {
   "cell_type": "markdown",
   "id": "40c11c1f",
   "metadata": {},
   "source": [
    "\"A software repository, or repo for short, is a storage location for software packages. Often a table of contents is also stored, along with metadata. Furthermore. it stores all files associated with the learning portfolio or whichever file name we choose. A software repository is typically managed by source control or repository managers. Package managers allow automatically installing and updating repositories. In addition to storage, it also tracks all the revisions and changes to the files inside (their history).\n"
   ]
  },
  {
   "cell_type": "markdown",
   "id": "5ef6b0de",
   "metadata": {},
   "source": [
    "Git keep tracks of  ??    in the files in our repository. \n",
    "\n",
    "Git keep tracks of changes made to the files in the repository. #correct"
   ]
  },
  {
   "cell_type": "markdown",
   "id": "ff4a3673",
   "metadata": {},
   "source": [
    "track version histories #this is wrong"
   ]
  },
  {
   "cell_type": "markdown",
   "id": "61861e27",
   "metadata": {},
   "source": [
    "What is a commit?"
   ]
  },
  {
   "cell_type": "markdown",
   "id": "7dc83688",
   "metadata": {},
   "source": [
    "Commit is not just when we specify what changes to track, BUT\n",
    "confirming the changes we want to make to our documents"
   ]
  },
  {
   "cell_type": "markdown",
   "id": "e30db457",
   "metadata": {},
   "source": [
    "In a commit, specify what file changes you want to be recorded and attach a brief description of the changes. This will make it easy for you to see the evolution of your repository. An example of a commit description can be “Completed exercise 1 of the first chapter!”."
   ]
  },
  {
   "cell_type": "markdown",
   "id": "3d367b57",
   "metadata": {},
   "source": [
    "What is a push?"
   ]
  },
  {
   "cell_type": "markdown",
   "id": "c238a5d0",
   "metadata": {},
   "source": [
    "share your changes with GitHub (and anyone else sharing the repository), you need to push these changes to the server (usually called origin)"
   ]
  },
  {
   "cell_type": "markdown",
   "id": "a2a2ef1d",
   "metadata": {},
   "source": [
    "What is the difference between GitHub and GitHub Desktop?"
   ]
  },
  {
   "cell_type": "markdown",
   "id": "c0bfd489",
   "metadata": {},
   "source": [
    "Git is a version control system that helps you manage your code and keep track of it, and GitHub is a cloud-based hosting platform that enables developers to manage their Git repositories. GitHub Desktop is an application that lets users interact better with GitHub through a GUI."
   ]
  },
  {
   "cell_type": "markdown",
   "id": "8cda3648",
   "metadata": {},
   "source": [
    "[re-attempt]\n",
    "GitHub is an online platform which manages our files with codes(repositories). GitHub Desktop is a software downloaded into our computer which allows us to work remotely with ease(without the need to type actual code to actually work but instead with the push of a button)."
   ]
  },
  {
   "cell_type": "markdown",
   "id": "a09a89cb",
   "metadata": {},
   "source": [
    "Is there an ‘opposite’ to a push?"
   ]
  },
  {
   "cell_type": "markdown",
   "id": "04bdaba6",
   "metadata": {},
   "source": [
    "git pull - it means extracting the file from the repository and putting it into our desktop app and we can choose which version changes we want to extract."
   ]
  },
  {
   "cell_type": "markdown",
   "id": "3b691f77",
   "metadata": {},
   "source": [
    "bit is diff from git fetch"
   ]
  },
  {
   "cell_type": "markdown",
   "id": "5802b6d9",
   "metadata": {},
   "source": [
    "git pull is git fetch + git merge combined"
   ]
  },
  {
   "cell_type": "code",
   "execution_count": null,
   "id": "4aebb89a",
   "metadata": {},
   "outputs": [],
   "source": [
    "print ('Hello World')"
   ]
  },
  {
   "cell_type": "code",
   "execution_count": null,
   "id": "ed66537c",
   "metadata": {},
   "outputs": [],
   "source": [
    "print ('Hello World')"
   ]
  },
  {
   "cell_type": "code",
   "execution_count": null,
   "id": "68db0f74",
   "metadata": {},
   "outputs": [],
   "source": [
    "#run cell = just run (CMD+ ENTER)\n",
    "#run cell and move to next = run and auto move to next line(CMD+ENTER)\n",
    "#XXX-->code cell: ESC Y\n",
    "#XXX-->markdown cell: ESC M"
   ]
  },
  {
   "cell_type": "code",
   "execution_count": null,
   "id": "5fa707ac",
   "metadata": {},
   "outputs": [],
   "source": [
    "print('hello world')"
   ]
  },
  {
   "cell_type": "code",
   "execution_count": null,
   "id": "1afd7334",
   "metadata": {},
   "outputs": [],
   "source": []
  },
  {
   "cell_type": "code",
   "execution_count": null,
   "id": "f2df86e6",
   "metadata": {},
   "outputs": [],
   "source": []
  },
  {
   "cell_type": "code",
   "execution_count": null,
   "id": "6646223d",
   "metadata": {},
   "outputs": [],
   "source": []
  },
  {
   "cell_type": "markdown",
   "id": "a214bbbb",
   "metadata": {},
   "source": [
    "print('hello world')\n",
    "\n",
    "print('hello world')"
   ]
  },
  {
   "cell_type": "markdown",
   "id": "4a9092ea",
   "metadata": {},
   "source": []
  },
  {
   "cell_type": "code",
   "execution_count": null,
   "id": "4267f4ff",
   "metadata": {},
   "outputs": [],
   "source": [
    "!pwd"
   ]
  },
  {
   "cell_type": "code",
   "execution_count": null,
   "id": "4a1aa9f8",
   "metadata": {},
   "outputs": [],
   "source": [
    "!conda install numpy."
   ]
  },
  {
   "cell_type": "code",
   "execution_count": null,
   "id": "95a6f817",
   "metadata": {},
   "outputs": [],
   "source": [
    "!ls"
   ]
  },
  {
   "cell_type": "code",
   "execution_count": null,
   "id": "65014dee",
   "metadata": {},
   "outputs": [],
   "source": [
    "conda install -c conda-forge jupyter_contrib_nbextensions"
   ]
  },
  {
   "cell_type": "code",
   "execution_count": null,
   "id": "980cc9dd",
   "metadata": {},
   "outputs": [],
   "source": [
    "%timeit x=10"
   ]
  },
  {
   "cell_type": "code",
   "execution_count": null,
   "id": "fc77bd32",
   "metadata": {},
   "outputs": [],
   "source": [
    "%timeit x=10"
   ]
  },
  {
   "cell_type": "code",
   "execution_count": null,
   "id": "ae425eb4",
   "metadata": {},
   "outputs": [],
   "source": [
    "%lsmagic"
   ]
  },
  {
   "cell_type": "code",
   "execution_count": null,
   "id": "026145c7",
   "metadata": {
    "scrolled": true
   },
   "outputs": [],
   "source": [
    "%run"
   ]
  },
  {
   "cell_type": "code",
   "execution_count": null,
   "id": "29151aab",
   "metadata": {},
   "outputs": [],
   "source": [
    "%%timeit\n",
    "x=10\n",
    "y=10\n",
    "z=10"
   ]
  },
  {
   "cell_type": "markdown",
   "id": "06c7beae",
   "metadata": {},
   "source": [
    "#ESC 9 9"
   ]
  },
  {
   "cell_type": "markdown",
   "id": "c031fd4b",
   "metadata": {},
   "source": [
    "Restart the kernel and run all cells (use ESC + 9 + 9) does not work, I changed shortcut to 9\n"
   ]
  },
  {
   "cell_type": "markdown",
   "id": "4242d190",
   "metadata": {},
   "source": [
    "Clear cell output (use ESC + O)"
   ]
  },
  {
   "cell_type": "markdown",
   "id": "2f83f95e",
   "metadata": {},
   "source": [
    "Clear cell output (use ESC + O) does not work so I changed to 0"
   ]
  },
  {
   "cell_type": "code",
   "execution_count": null,
   "id": "401141f5",
   "metadata": {},
   "outputs": [],
   "source": []
  }
 ],
 "metadata": {
  "kernelspec": {
   "display_name": "Python 3 (ipykernel)",
   "language": "python",
   "name": "python3"
  },
  "language_info": {
   "codemirror_mode": {
    "name": "ipython",
    "version": 3
   },
   "file_extension": ".py",
   "mimetype": "text/x-python",
   "name": "python",
   "nbconvert_exporter": "python",
   "pygments_lexer": "ipython3",
   "version": "3.10.8"
  }
 },
 "nbformat": 4,
 "nbformat_minor": 5
}
