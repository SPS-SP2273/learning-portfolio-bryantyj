{
 "cells": [
  {
   "cell_type": "markdown",
   "id": "123456",
   "metadata": {},
   "source": [
    "<div style=\"text-align:left;font-size:2em\"><span style=\"font-weight:bolder;font-size:1.25em\">SP2273 | Learning Portfolio</span><br><br><span style=\"font-weight:bold;color:darkred\">Just Exercises (I)</span></div>"
   ]
  },
  {
   "cell_type": "markdown",
   "id": "00b8f349",
   "metadata": {},
   "source": [
    "## Exercise 1 :  F-strings to the rescue"
   ]
  },
  {
   "cell_type": "code",
   "execution_count": null,
   "id": "4124972a",
   "metadata": {},
   "outputs": [],
   "source": [
    "\n",
    "\n",
    "\n",
    "# Your solution here\n",
    "\n",
    "\n"
   ]
  },
  {
   "cell_type": "markdown",
   "id": "a42a5936",
   "metadata": {},
   "source": [
    "Q1"
   ]
  },
  {
   "cell_type": "code",
   "execution_count": 10,
   "id": "e4349f6c",
   "metadata": {},
   "outputs": [
    {
     "name": "stdout",
     "output_type": "stream",
     "text": [
      "0001\n",
      "0002\n",
      "0003\n",
      "0004\n",
      "0005\n",
      "0006\n",
      "0007\n",
      "0008\n",
      "0009\n",
      "0010\n"
     ]
    }
   ],
   "source": [
    "for i in range(1,11):\n",
    "    if i<10:\n",
    "        print(f'000{i}')\n",
    "    else:\n",
    "        print(f'00{i}')"
   ]
  },
  {
   "cell_type": "markdown",
   "id": "08d903bf",
   "metadata": {},
   "source": [
    "Q2"
   ]
  },
  {
   "cell_type": "code",
   "execution_count": 33,
   "id": "25963b86",
   "metadata": {},
   "outputs": [
    {
     "name": "stdout",
     "output_type": "stream",
     "text": [
      "001+\n",
      "002++\n",
      "003+++\n",
      "004++++\n",
      "005+++++\n",
      "006++++++\n",
      "007+++++++\n",
      "008++++++++\n",
      "009+++++++++\n",
      "010++++++++++\n"
     ]
    }
   ],
   "source": [
    "for i in range(1,11):\n",
    "    if i<10:\n",
    "        print(f'00{i}' + '+'*i)\n",
    "    else:\n",
    "        print(f'0{i}' + '+'*i)\n",
    "     "
   ]
  },
  {
   "cell_type": "code",
   "execution_count": 34,
   "id": "88bbbb71",
   "metadata": {},
   "outputs": [
    {
     "name": "stdout",
     "output_type": "stream",
     "text": [
      "001          +\n",
      "002         ++\n",
      "003        +++\n",
      "004       ++++\n",
      "005      +++++\n",
      "006     ++++++\n",
      "007    +++++++\n",
      "008   ++++++++\n",
      "009  +++++++++\n",
      "010 ++++++++++\n"
     ]
    }
   ],
   "source": [
    "x = \"+\"\n",
    "y = \" \"\n",
    "for i in range(1, 11):\n",
    "    if i < 10:\n",
    "        print(f'00{i}' + y * (11-i) + x * i)\n",
    "    else:\n",
    "        print(f'0{i}' + y + x * i)"
   ]
  },
  {
   "cell_type": "markdown",
   "id": "03032150",
   "metadata": {},
   "source": [
    "Q3"
   ]
  },
  {
   "cell_type": "code",
   "execution_count": 35,
   "id": "cdf7e1e3",
   "metadata": {},
   "outputs": [
    {
     "name": "stdout",
     "output_type": "stream",
     "text": [
      "001 -+++++++++\n",
      "002 --++++++++\n",
      "003 ---+++++++\n",
      "004 ----++++++\n",
      "005 -----+++++\n",
      "006 ------++++\n",
      "007 -------+++\n",
      "008 --------++\n",
      "009 ---------+\n",
      "010 ----------\n"
     ]
    }
   ],
   "source": [
    "x = \"+\"\n",
    "y = \"-\"\n",
    "\n",
    "def function(n):\n",
    "    for i in range(1, n+1):\n",
    "        print(f'{i:03d}' + \" \" + y * i + x*(n-i))\n",
    "function(10)"
   ]
  },
  {
   "cell_type": "markdown",
   "id": "aa588a70",
   "metadata": {},
   "source": [
    "Q4"
   ]
  },
  {
   "cell_type": "code",
   "execution_count": 47,
   "id": "adcf0c36",
   "metadata": {},
   "outputs": [
    {
     "data": {
      "text/plain": [
       "['bruce_exploits.txt',\n",
       " 'bruce_friends.txt',\n",
       " 'bruce_enemies.txt',\n",
       " 'natasha_exploits.txt',\n",
       " 'natasha_friends.txt',\n",
       " 'natasha_enemies.txt',\n",
       " 'tony_exploits.txt',\n",
       " 'tony_friends.txt',\n",
       " 'tony_enemies.txt']"
      ]
     },
     "execution_count": 47,
     "metadata": {},
     "output_type": "execute_result"
    }
   ],
   "source": [
    "names=('bruce', 'natasha', 'tony')\n",
    "list = []\n",
    "temp = ''\n",
    "for i in names:\n",
    "    temp = f'{i}_exploits.txt'\n",
    "    list +=[temp]\n",
    "    temp = f'{i}_friends.txt'\n",
    "    list +=[temp]\n",
    "    temp = f'{i}_enemies.txt'\n",
    "    list +=[temp]\n",
    "    \n",
    "list"
   ]
  },
  {
   "cell_type": "code",
   "execution_count": 49,
   "id": "0d5e214d",
   "metadata": {},
   "outputs": [
    {
     "data": {
      "text/plain": [
       "['bruce_exploits.txt',\n",
       " 'bruce_friends.txt',\n",
       " 'bruce_enemies.txt',\n",
       " 'natasha_exploits.txt',\n",
       " 'natasha_friends.txt',\n",
       " 'natasha_enemies.txt',\n",
       " 'tony_exploits.txt',\n",
       " 'tony_friends.txt',\n",
       " 'tony_enemies.txt']"
      ]
     },
     "execution_count": 49,
     "metadata": {},
     "output_type": "execute_result"
    }
   ],
   "source": [
    "names = ['bruce' , 'natasha' , 'tony']\n",
    "title = ['_exploits.txt' , '_friends.txt' , '_enemies.txt']\n",
    "list = []\n",
    "for i in names:\n",
    "    for j in title:\n",
    "        list.append(i+j)\n",
    "list"
   ]
  },
  {
   "cell_type": "code",
   "execution_count": 53,
   "id": "85c91b70",
   "metadata": {},
   "outputs": [
    {
     "name": "stdout",
     "output_type": "stream",
     "text": [
      "bruce_exploits.txt\n",
      "bruce_friends.txt\n",
      "bruce_enemies.txt\n",
      "natasha_exploits.txt\n",
      "natasha_friends.txt\n",
      "natasha_enemies.txt\n",
      "tony_exploits.txt\n",
      "tony_friends.txt\n",
      "tony_enemies.txt\n"
     ]
    }
   ],
   "source": [
    "names = ['bruce' , 'natasha' , 'tony']\n",
    "title = ['_exploits.txt' , '_friends.txt' , '_enemies.txt']\n",
    "for i in names:\n",
    "    for j in title:\n",
    "        print(i+j)"
   ]
  },
  {
   "cell_type": "markdown",
   "id": "0915d200",
   "metadata": {},
   "source": [
    "Q5"
   ]
  },
  {
   "cell_type": "code",
   "execution_count": 69,
   "id": "08907ad8",
   "metadata": {},
   "outputs": [
    {
     "data": {
      "text/plain": [
       "['data_sg_exp-01_trial-001.txt',\n",
       " 'data_sg_exp-01_trial-002.txt',\n",
       " 'data_sg_exp-01_trial-003.txt',\n",
       " 'data_sg_exp-01_trial-004.txt',\n",
       " 'data_sg_exp-01_trial-005.txt',\n",
       " 'data_sg_exp-01_trial-006.txt',\n",
       " 'data_sg_exp-01_trial-007.txt',\n",
       " 'data_sg_exp-01_trial-008.txt',\n",
       " 'data_sg_exp-01_trial-009.txt',\n",
       " 'data_sg_exp-01_trial-010.txt',\n",
       " 'data_sg_exp-01_trial-011.txt',\n",
       " 'data_sg_exp-01_trial-012.txt',\n",
       " 'data_sg_exp-01_trial-013.txt',\n",
       " 'data_sg_exp-01_trial-014.txt',\n",
       " 'data_sg_exp-01_trial-015.txt',\n",
       " 'data_sg_exp-01_trial-016.txt',\n",
       " 'data_sg_exp-01_trial-017.txt',\n",
       " 'data_sg_exp-01_trial-018.txt',\n",
       " 'data_sg_exp-01_trial-019.txt',\n",
       " 'data_sg_exp-01_trial-020.txt',\n",
       " 'data_sg_exp-01_trial-021.txt',\n",
       " 'data_sg_exp-01_trial-022.txt',\n",
       " 'data_sg_exp-01_trial-023.txt',\n",
       " 'data_sg_exp-01_trial-024.txt',\n",
       " 'data_sg_exp-01_trial-025.txt',\n",
       " 'data_sg_exp-01_trial-026.txt',\n",
       " 'data_sg_exp-01_trial-027.txt',\n",
       " 'data_sg_exp-01_trial-028.txt',\n",
       " 'data_sg_exp-01_trial-029.txt',\n",
       " 'data_sg_exp-01_trial-030.txt',\n",
       " 'data_sg_exp-01_trial-031.txt',\n",
       " 'data_sg_exp-01_trial-032.txt',\n",
       " 'data_sg_exp-01_trial-033.txt',\n",
       " 'data_sg_exp-01_trial-034.txt',\n",
       " 'data_sg_exp-01_trial-035.txt',\n",
       " 'data_sg_exp-01_trial-036.txt',\n",
       " 'data_sg_exp-01_trial-037.txt',\n",
       " 'data_sg_exp-01_trial-038.txt',\n",
       " 'data_sg_exp-01_trial-039.txt',\n",
       " 'data_sg_exp-01_trial-040.txt',\n",
       " 'data_sg_exp-01_trial-041.txt',\n",
       " 'data_sg_exp-01_trial-042.txt',\n",
       " 'data_sg_exp-01_trial-043.txt',\n",
       " 'data_sg_exp-01_trial-044.txt',\n",
       " 'data_sg_exp-01_trial-045.txt',\n",
       " 'data_sg_exp-01_trial-046.txt',\n",
       " 'data_sg_exp-01_trial-047.txt',\n",
       " 'data_sg_exp-01_trial-048.txt',\n",
       " 'data_sg_exp-01_trial-049.txt',\n",
       " 'data_sg_exp-01_trial-050.txt',\n",
       " 'data_sg_exp-02_trial-001.txt',\n",
       " 'data_sg_exp-02_trial-002.txt',\n",
       " 'data_sg_exp-02_trial-003.txt',\n",
       " 'data_sg_exp-02_trial-004.txt',\n",
       " 'data_sg_exp-02_trial-005.txt',\n",
       " 'data_sg_exp-02_trial-006.txt',\n",
       " 'data_sg_exp-02_trial-007.txt',\n",
       " 'data_sg_exp-02_trial-008.txt',\n",
       " 'data_sg_exp-02_trial-009.txt',\n",
       " 'data_sg_exp-02_trial-010.txt',\n",
       " 'data_sg_exp-02_trial-011.txt',\n",
       " 'data_sg_exp-02_trial-012.txt',\n",
       " 'data_sg_exp-02_trial-013.txt',\n",
       " 'data_sg_exp-02_trial-014.txt',\n",
       " 'data_sg_exp-02_trial-015.txt',\n",
       " 'data_sg_exp-02_trial-016.txt',\n",
       " 'data_sg_exp-02_trial-017.txt',\n",
       " 'data_sg_exp-02_trial-018.txt',\n",
       " 'data_sg_exp-02_trial-019.txt',\n",
       " 'data_sg_exp-02_trial-020.txt',\n",
       " 'data_sg_exp-02_trial-021.txt',\n",
       " 'data_sg_exp-02_trial-022.txt',\n",
       " 'data_sg_exp-02_trial-023.txt',\n",
       " 'data_sg_exp-02_trial-024.txt',\n",
       " 'data_sg_exp-02_trial-025.txt',\n",
       " 'data_sg_exp-02_trial-026.txt',\n",
       " 'data_sg_exp-02_trial-027.txt',\n",
       " 'data_sg_exp-02_trial-028.txt',\n",
       " 'data_sg_exp-02_trial-029.txt',\n",
       " 'data_sg_exp-02_trial-030.txt',\n",
       " 'data_sg_exp-02_trial-031.txt',\n",
       " 'data_sg_exp-02_trial-032.txt',\n",
       " 'data_sg_exp-02_trial-033.txt',\n",
       " 'data_sg_exp-02_trial-034.txt',\n",
       " 'data_sg_exp-02_trial-035.txt',\n",
       " 'data_sg_exp-02_trial-036.txt',\n",
       " 'data_sg_exp-02_trial-037.txt',\n",
       " 'data_sg_exp-02_trial-038.txt',\n",
       " 'data_sg_exp-02_trial-039.txt',\n",
       " 'data_sg_exp-02_trial-040.txt',\n",
       " 'data_sg_exp-02_trial-041.txt',\n",
       " 'data_sg_exp-02_trial-042.txt',\n",
       " 'data_sg_exp-02_trial-043.txt',\n",
       " 'data_sg_exp-02_trial-044.txt',\n",
       " 'data_sg_exp-02_trial-045.txt',\n",
       " 'data_sg_exp-02_trial-046.txt',\n",
       " 'data_sg_exp-02_trial-047.txt',\n",
       " 'data_sg_exp-02_trial-048.txt',\n",
       " 'data_sg_exp-02_trial-049.txt',\n",
       " 'data_sg_exp-02_trial-050.txt',\n",
       " 'data_sg_exp-03_trial-001.txt',\n",
       " 'data_sg_exp-03_trial-002.txt',\n",
       " 'data_sg_exp-03_trial-003.txt',\n",
       " 'data_sg_exp-03_trial-004.txt',\n",
       " 'data_sg_exp-03_trial-005.txt',\n",
       " 'data_sg_exp-03_trial-006.txt',\n",
       " 'data_sg_exp-03_trial-007.txt',\n",
       " 'data_sg_exp-03_trial-008.txt',\n",
       " 'data_sg_exp-03_trial-009.txt',\n",
       " 'data_sg_exp-03_trial-010.txt',\n",
       " 'data_sg_exp-03_trial-011.txt',\n",
       " 'data_sg_exp-03_trial-012.txt',\n",
       " 'data_sg_exp-03_trial-013.txt',\n",
       " 'data_sg_exp-03_trial-014.txt',\n",
       " 'data_sg_exp-03_trial-015.txt',\n",
       " 'data_sg_exp-03_trial-016.txt',\n",
       " 'data_sg_exp-03_trial-017.txt',\n",
       " 'data_sg_exp-03_trial-018.txt',\n",
       " 'data_sg_exp-03_trial-019.txt',\n",
       " 'data_sg_exp-03_trial-020.txt',\n",
       " 'data_sg_exp-03_trial-021.txt',\n",
       " 'data_sg_exp-03_trial-022.txt',\n",
       " 'data_sg_exp-03_trial-023.txt',\n",
       " 'data_sg_exp-03_trial-024.txt',\n",
       " 'data_sg_exp-03_trial-025.txt',\n",
       " 'data_sg_exp-03_trial-026.txt',\n",
       " 'data_sg_exp-03_trial-027.txt',\n",
       " 'data_sg_exp-03_trial-028.txt',\n",
       " 'data_sg_exp-03_trial-029.txt',\n",
       " 'data_sg_exp-03_trial-030.txt',\n",
       " 'data_sg_exp-03_trial-031.txt',\n",
       " 'data_sg_exp-03_trial-032.txt',\n",
       " 'data_sg_exp-03_trial-033.txt',\n",
       " 'data_sg_exp-03_trial-034.txt',\n",
       " 'data_sg_exp-03_trial-035.txt',\n",
       " 'data_sg_exp-03_trial-036.txt',\n",
       " 'data_sg_exp-03_trial-037.txt',\n",
       " 'data_sg_exp-03_trial-038.txt',\n",
       " 'data_sg_exp-03_trial-039.txt',\n",
       " 'data_sg_exp-03_trial-040.txt',\n",
       " 'data_sg_exp-03_trial-041.txt',\n",
       " 'data_sg_exp-03_trial-042.txt',\n",
       " 'data_sg_exp-03_trial-043.txt',\n",
       " 'data_sg_exp-03_trial-044.txt',\n",
       " 'data_sg_exp-03_trial-045.txt',\n",
       " 'data_sg_exp-03_trial-046.txt',\n",
       " 'data_sg_exp-03_trial-047.txt',\n",
       " 'data_sg_exp-03_trial-048.txt',\n",
       " 'data_sg_exp-03_trial-049.txt',\n",
       " 'data_sg_exp-03_trial-050.txt',\n",
       " 'data_gb_exp-01_trial-001.txt',\n",
       " 'data_gb_exp-01_trial-002.txt',\n",
       " 'data_gb_exp-01_trial-003.txt',\n",
       " 'data_gb_exp-01_trial-004.txt',\n",
       " 'data_gb_exp-01_trial-005.txt',\n",
       " 'data_gb_exp-01_trial-006.txt',\n",
       " 'data_gb_exp-01_trial-007.txt',\n",
       " 'data_gb_exp-01_trial-008.txt',\n",
       " 'data_gb_exp-01_trial-009.txt',\n",
       " 'data_gb_exp-01_trial-010.txt',\n",
       " 'data_gb_exp-01_trial-011.txt',\n",
       " 'data_gb_exp-01_trial-012.txt',\n",
       " 'data_gb_exp-01_trial-013.txt',\n",
       " 'data_gb_exp-01_trial-014.txt',\n",
       " 'data_gb_exp-01_trial-015.txt',\n",
       " 'data_gb_exp-01_trial-016.txt',\n",
       " 'data_gb_exp-01_trial-017.txt',\n",
       " 'data_gb_exp-01_trial-018.txt',\n",
       " 'data_gb_exp-01_trial-019.txt',\n",
       " 'data_gb_exp-01_trial-020.txt',\n",
       " 'data_gb_exp-01_trial-021.txt',\n",
       " 'data_gb_exp-01_trial-022.txt',\n",
       " 'data_gb_exp-01_trial-023.txt',\n",
       " 'data_gb_exp-01_trial-024.txt',\n",
       " 'data_gb_exp-01_trial-025.txt',\n",
       " 'data_gb_exp-01_trial-026.txt',\n",
       " 'data_gb_exp-01_trial-027.txt',\n",
       " 'data_gb_exp-01_trial-028.txt',\n",
       " 'data_gb_exp-01_trial-029.txt',\n",
       " 'data_gb_exp-01_trial-030.txt',\n",
       " 'data_gb_exp-01_trial-031.txt',\n",
       " 'data_gb_exp-01_trial-032.txt',\n",
       " 'data_gb_exp-01_trial-033.txt',\n",
       " 'data_gb_exp-01_trial-034.txt',\n",
       " 'data_gb_exp-01_trial-035.txt',\n",
       " 'data_gb_exp-01_trial-036.txt',\n",
       " 'data_gb_exp-01_trial-037.txt',\n",
       " 'data_gb_exp-01_trial-038.txt',\n",
       " 'data_gb_exp-01_trial-039.txt',\n",
       " 'data_gb_exp-01_trial-040.txt',\n",
       " 'data_gb_exp-01_trial-041.txt',\n",
       " 'data_gb_exp-01_trial-042.txt',\n",
       " 'data_gb_exp-01_trial-043.txt',\n",
       " 'data_gb_exp-01_trial-044.txt',\n",
       " 'data_gb_exp-01_trial-045.txt',\n",
       " 'data_gb_exp-01_trial-046.txt',\n",
       " 'data_gb_exp-01_trial-047.txt',\n",
       " 'data_gb_exp-01_trial-048.txt',\n",
       " 'data_gb_exp-01_trial-049.txt',\n",
       " 'data_gb_exp-01_trial-050.txt',\n",
       " 'data_gb_exp-02_trial-001.txt',\n",
       " 'data_gb_exp-02_trial-002.txt',\n",
       " 'data_gb_exp-02_trial-003.txt',\n",
       " 'data_gb_exp-02_trial-004.txt',\n",
       " 'data_gb_exp-02_trial-005.txt',\n",
       " 'data_gb_exp-02_trial-006.txt',\n",
       " 'data_gb_exp-02_trial-007.txt',\n",
       " 'data_gb_exp-02_trial-008.txt',\n",
       " 'data_gb_exp-02_trial-009.txt',\n",
       " 'data_gb_exp-02_trial-010.txt',\n",
       " 'data_gb_exp-02_trial-011.txt',\n",
       " 'data_gb_exp-02_trial-012.txt',\n",
       " 'data_gb_exp-02_trial-013.txt',\n",
       " 'data_gb_exp-02_trial-014.txt',\n",
       " 'data_gb_exp-02_trial-015.txt',\n",
       " 'data_gb_exp-02_trial-016.txt',\n",
       " 'data_gb_exp-02_trial-017.txt',\n",
       " 'data_gb_exp-02_trial-018.txt',\n",
       " 'data_gb_exp-02_trial-019.txt',\n",
       " 'data_gb_exp-02_trial-020.txt',\n",
       " 'data_gb_exp-02_trial-021.txt',\n",
       " 'data_gb_exp-02_trial-022.txt',\n",
       " 'data_gb_exp-02_trial-023.txt',\n",
       " 'data_gb_exp-02_trial-024.txt',\n",
       " 'data_gb_exp-02_trial-025.txt',\n",
       " 'data_gb_exp-02_trial-026.txt',\n",
       " 'data_gb_exp-02_trial-027.txt',\n",
       " 'data_gb_exp-02_trial-028.txt',\n",
       " 'data_gb_exp-02_trial-029.txt',\n",
       " 'data_gb_exp-02_trial-030.txt',\n",
       " 'data_gb_exp-02_trial-031.txt',\n",
       " 'data_gb_exp-02_trial-032.txt',\n",
       " 'data_gb_exp-02_trial-033.txt',\n",
       " 'data_gb_exp-02_trial-034.txt',\n",
       " 'data_gb_exp-02_trial-035.txt',\n",
       " 'data_gb_exp-02_trial-036.txt',\n",
       " 'data_gb_exp-02_trial-037.txt',\n",
       " 'data_gb_exp-02_trial-038.txt',\n",
       " 'data_gb_exp-02_trial-039.txt',\n",
       " 'data_gb_exp-02_trial-040.txt',\n",
       " 'data_gb_exp-02_trial-041.txt',\n",
       " 'data_gb_exp-02_trial-042.txt',\n",
       " 'data_gb_exp-02_trial-043.txt',\n",
       " 'data_gb_exp-02_trial-044.txt',\n",
       " 'data_gb_exp-02_trial-045.txt',\n",
       " 'data_gb_exp-02_trial-046.txt',\n",
       " 'data_gb_exp-02_trial-047.txt',\n",
       " 'data_gb_exp-02_trial-048.txt',\n",
       " 'data_gb_exp-02_trial-049.txt',\n",
       " 'data_gb_exp-02_trial-050.txt',\n",
       " 'data_gb_exp-03_trial-001.txt',\n",
       " 'data_gb_exp-03_trial-002.txt',\n",
       " 'data_gb_exp-03_trial-003.txt',\n",
       " 'data_gb_exp-03_trial-004.txt',\n",
       " 'data_gb_exp-03_trial-005.txt',\n",
       " 'data_gb_exp-03_trial-006.txt',\n",
       " 'data_gb_exp-03_trial-007.txt',\n",
       " 'data_gb_exp-03_trial-008.txt',\n",
       " 'data_gb_exp-03_trial-009.txt',\n",
       " 'data_gb_exp-03_trial-010.txt',\n",
       " 'data_gb_exp-03_trial-011.txt',\n",
       " 'data_gb_exp-03_trial-012.txt',\n",
       " 'data_gb_exp-03_trial-013.txt',\n",
       " 'data_gb_exp-03_trial-014.txt',\n",
       " 'data_gb_exp-03_trial-015.txt',\n",
       " 'data_gb_exp-03_trial-016.txt',\n",
       " 'data_gb_exp-03_trial-017.txt',\n",
       " 'data_gb_exp-03_trial-018.txt',\n",
       " 'data_gb_exp-03_trial-019.txt',\n",
       " 'data_gb_exp-03_trial-020.txt',\n",
       " 'data_gb_exp-03_trial-021.txt',\n",
       " 'data_gb_exp-03_trial-022.txt',\n",
       " 'data_gb_exp-03_trial-023.txt',\n",
       " 'data_gb_exp-03_trial-024.txt',\n",
       " 'data_gb_exp-03_trial-025.txt',\n",
       " 'data_gb_exp-03_trial-026.txt',\n",
       " 'data_gb_exp-03_trial-027.txt',\n",
       " 'data_gb_exp-03_trial-028.txt',\n",
       " 'data_gb_exp-03_trial-029.txt',\n",
       " 'data_gb_exp-03_trial-030.txt',\n",
       " 'data_gb_exp-03_trial-031.txt',\n",
       " 'data_gb_exp-03_trial-032.txt',\n",
       " 'data_gb_exp-03_trial-033.txt',\n",
       " 'data_gb_exp-03_trial-034.txt',\n",
       " 'data_gb_exp-03_trial-035.txt',\n",
       " 'data_gb_exp-03_trial-036.txt',\n",
       " 'data_gb_exp-03_trial-037.txt',\n",
       " 'data_gb_exp-03_trial-038.txt',\n",
       " 'data_gb_exp-03_trial-039.txt',\n",
       " 'data_gb_exp-03_trial-040.txt',\n",
       " 'data_gb_exp-03_trial-041.txt',\n",
       " 'data_gb_exp-03_trial-042.txt',\n",
       " 'data_gb_exp-03_trial-043.txt',\n",
       " 'data_gb_exp-03_trial-044.txt',\n",
       " 'data_gb_exp-03_trial-045.txt',\n",
       " 'data_gb_exp-03_trial-046.txt',\n",
       " 'data_gb_exp-03_trial-047.txt',\n",
       " 'data_gb_exp-03_trial-048.txt',\n",
       " 'data_gb_exp-03_trial-049.txt',\n",
       " 'data_gb_exp-03_trial-050.txt',\n",
       " 'data_us_exp-01_trial-001.txt',\n",
       " 'data_us_exp-01_trial-002.txt',\n",
       " 'data_us_exp-01_trial-003.txt',\n",
       " 'data_us_exp-01_trial-004.txt',\n",
       " 'data_us_exp-01_trial-005.txt',\n",
       " 'data_us_exp-01_trial-006.txt',\n",
       " 'data_us_exp-01_trial-007.txt',\n",
       " 'data_us_exp-01_trial-008.txt',\n",
       " 'data_us_exp-01_trial-009.txt',\n",
       " 'data_us_exp-01_trial-010.txt',\n",
       " 'data_us_exp-01_trial-011.txt',\n",
       " 'data_us_exp-01_trial-012.txt',\n",
       " 'data_us_exp-01_trial-013.txt',\n",
       " 'data_us_exp-01_trial-014.txt',\n",
       " 'data_us_exp-01_trial-015.txt',\n",
       " 'data_us_exp-01_trial-016.txt',\n",
       " 'data_us_exp-01_trial-017.txt',\n",
       " 'data_us_exp-01_trial-018.txt',\n",
       " 'data_us_exp-01_trial-019.txt',\n",
       " 'data_us_exp-01_trial-020.txt',\n",
       " 'data_us_exp-01_trial-021.txt',\n",
       " 'data_us_exp-01_trial-022.txt',\n",
       " 'data_us_exp-01_trial-023.txt',\n",
       " 'data_us_exp-01_trial-024.txt',\n",
       " 'data_us_exp-01_trial-025.txt',\n",
       " 'data_us_exp-01_trial-026.txt',\n",
       " 'data_us_exp-01_trial-027.txt',\n",
       " 'data_us_exp-01_trial-028.txt',\n",
       " 'data_us_exp-01_trial-029.txt',\n",
       " 'data_us_exp-01_trial-030.txt',\n",
       " 'data_us_exp-01_trial-031.txt',\n",
       " 'data_us_exp-01_trial-032.txt',\n",
       " 'data_us_exp-01_trial-033.txt',\n",
       " 'data_us_exp-01_trial-034.txt',\n",
       " 'data_us_exp-01_trial-035.txt',\n",
       " 'data_us_exp-01_trial-036.txt',\n",
       " 'data_us_exp-01_trial-037.txt',\n",
       " 'data_us_exp-01_trial-038.txt',\n",
       " 'data_us_exp-01_trial-039.txt',\n",
       " 'data_us_exp-01_trial-040.txt',\n",
       " 'data_us_exp-01_trial-041.txt',\n",
       " 'data_us_exp-01_trial-042.txt',\n",
       " 'data_us_exp-01_trial-043.txt',\n",
       " 'data_us_exp-01_trial-044.txt',\n",
       " 'data_us_exp-01_trial-045.txt',\n",
       " 'data_us_exp-01_trial-046.txt',\n",
       " 'data_us_exp-01_trial-047.txt',\n",
       " 'data_us_exp-01_trial-048.txt',\n",
       " 'data_us_exp-01_trial-049.txt',\n",
       " 'data_us_exp-01_trial-050.txt',\n",
       " 'data_us_exp-02_trial-001.txt',\n",
       " 'data_us_exp-02_trial-002.txt',\n",
       " 'data_us_exp-02_trial-003.txt',\n",
       " 'data_us_exp-02_trial-004.txt',\n",
       " 'data_us_exp-02_trial-005.txt',\n",
       " 'data_us_exp-02_trial-006.txt',\n",
       " 'data_us_exp-02_trial-007.txt',\n",
       " 'data_us_exp-02_trial-008.txt',\n",
       " 'data_us_exp-02_trial-009.txt',\n",
       " 'data_us_exp-02_trial-010.txt',\n",
       " 'data_us_exp-02_trial-011.txt',\n",
       " 'data_us_exp-02_trial-012.txt',\n",
       " 'data_us_exp-02_trial-013.txt',\n",
       " 'data_us_exp-02_trial-014.txt',\n",
       " 'data_us_exp-02_trial-015.txt',\n",
       " 'data_us_exp-02_trial-016.txt',\n",
       " 'data_us_exp-02_trial-017.txt',\n",
       " 'data_us_exp-02_trial-018.txt',\n",
       " 'data_us_exp-02_trial-019.txt',\n",
       " 'data_us_exp-02_trial-020.txt',\n",
       " 'data_us_exp-02_trial-021.txt',\n",
       " 'data_us_exp-02_trial-022.txt',\n",
       " 'data_us_exp-02_trial-023.txt',\n",
       " 'data_us_exp-02_trial-024.txt',\n",
       " 'data_us_exp-02_trial-025.txt',\n",
       " 'data_us_exp-02_trial-026.txt',\n",
       " 'data_us_exp-02_trial-027.txt',\n",
       " 'data_us_exp-02_trial-028.txt',\n",
       " 'data_us_exp-02_trial-029.txt',\n",
       " 'data_us_exp-02_trial-030.txt',\n",
       " 'data_us_exp-02_trial-031.txt',\n",
       " 'data_us_exp-02_trial-032.txt',\n",
       " 'data_us_exp-02_trial-033.txt',\n",
       " 'data_us_exp-02_trial-034.txt',\n",
       " 'data_us_exp-02_trial-035.txt',\n",
       " 'data_us_exp-02_trial-036.txt',\n",
       " 'data_us_exp-02_trial-037.txt',\n",
       " 'data_us_exp-02_trial-038.txt',\n",
       " 'data_us_exp-02_trial-039.txt',\n",
       " 'data_us_exp-02_trial-040.txt',\n",
       " 'data_us_exp-02_trial-041.txt',\n",
       " 'data_us_exp-02_trial-042.txt',\n",
       " 'data_us_exp-02_trial-043.txt',\n",
       " 'data_us_exp-02_trial-044.txt',\n",
       " 'data_us_exp-02_trial-045.txt',\n",
       " 'data_us_exp-02_trial-046.txt',\n",
       " 'data_us_exp-02_trial-047.txt',\n",
       " 'data_us_exp-02_trial-048.txt',\n",
       " 'data_us_exp-02_trial-049.txt',\n",
       " 'data_us_exp-02_trial-050.txt',\n",
       " 'data_us_exp-03_trial-001.txt',\n",
       " 'data_us_exp-03_trial-002.txt',\n",
       " 'data_us_exp-03_trial-003.txt',\n",
       " 'data_us_exp-03_trial-004.txt',\n",
       " 'data_us_exp-03_trial-005.txt',\n",
       " 'data_us_exp-03_trial-006.txt',\n",
       " 'data_us_exp-03_trial-007.txt',\n",
       " 'data_us_exp-03_trial-008.txt',\n",
       " 'data_us_exp-03_trial-009.txt',\n",
       " 'data_us_exp-03_trial-010.txt',\n",
       " 'data_us_exp-03_trial-011.txt',\n",
       " 'data_us_exp-03_trial-012.txt',\n",
       " 'data_us_exp-03_trial-013.txt',\n",
       " 'data_us_exp-03_trial-014.txt',\n",
       " 'data_us_exp-03_trial-015.txt',\n",
       " 'data_us_exp-03_trial-016.txt',\n",
       " 'data_us_exp-03_trial-017.txt',\n",
       " 'data_us_exp-03_trial-018.txt',\n",
       " 'data_us_exp-03_trial-019.txt',\n",
       " 'data_us_exp-03_trial-020.txt',\n",
       " 'data_us_exp-03_trial-021.txt',\n",
       " 'data_us_exp-03_trial-022.txt',\n",
       " 'data_us_exp-03_trial-023.txt',\n",
       " 'data_us_exp-03_trial-024.txt',\n",
       " 'data_us_exp-03_trial-025.txt',\n",
       " 'data_us_exp-03_trial-026.txt',\n",
       " 'data_us_exp-03_trial-027.txt',\n",
       " 'data_us_exp-03_trial-028.txt',\n",
       " 'data_us_exp-03_trial-029.txt',\n",
       " 'data_us_exp-03_trial-030.txt',\n",
       " 'data_us_exp-03_trial-031.txt',\n",
       " 'data_us_exp-03_trial-032.txt',\n",
       " 'data_us_exp-03_trial-033.txt',\n",
       " 'data_us_exp-03_trial-034.txt',\n",
       " 'data_us_exp-03_trial-035.txt',\n",
       " 'data_us_exp-03_trial-036.txt',\n",
       " 'data_us_exp-03_trial-037.txt',\n",
       " 'data_us_exp-03_trial-038.txt',\n",
       " 'data_us_exp-03_trial-039.txt',\n",
       " 'data_us_exp-03_trial-040.txt',\n",
       " 'data_us_exp-03_trial-041.txt',\n",
       " 'data_us_exp-03_trial-042.txt',\n",
       " 'data_us_exp-03_trial-043.txt',\n",
       " 'data_us_exp-03_trial-044.txt',\n",
       " 'data_us_exp-03_trial-045.txt',\n",
       " 'data_us_exp-03_trial-046.txt',\n",
       " 'data_us_exp-03_trial-047.txt',\n",
       " 'data_us_exp-03_trial-048.txt',\n",
       " 'data_us_exp-03_trial-049.txt',\n",
       " 'data_us_exp-03_trial-050.txt']"
      ]
     },
     "execution_count": 69,
     "metadata": {},
     "output_type": "execute_result"
    }
   ],
   "source": [
    "country = ('sg' , 'gb' , 'us')\n",
    "expt_number = range(1,4)\n",
    "test_number = range(1,51)\n",
    "list=[]\n",
    "for i in country:\n",
    "    for j in expt_number:\n",
    "        for k in test_number:\n",
    "            list.append(f'data_{i}_exp-{j:02d}_trial-{k:03d}.txt')\n",
    "list"
   ]
  },
  {
   "cell_type": "markdown",
   "id": "8644fef7",
   "metadata": {},
   "source": [
    "**Exercise 2 :  Tutti frutti**"
   ]
  },
  {
   "cell_type": "code",
   "execution_count": 71,
   "id": "e70b7aa0",
   "metadata": {},
   "outputs": [],
   "source": [
    "\n",
    "\n",
    "\n",
    "# Your solution here\n",
    "\n",
    "\n",
    "fruits = [\"apple\", \"banana\", \"pineapple\", \"jackfruit\",\n",
    "        \"peach\", \"durian\", \"watermelon\", \"mango\",\n",
    "        \"strawberry\", \"passionfruit\"]"
   ]
  },
  {
   "cell_type": "markdown",
   "id": "5d453f6a",
   "metadata": {},
   "source": [
    "Q1"
   ]
  },
  {
   "cell_type": "code",
   "execution_count": 75,
   "id": "9c81abed",
   "metadata": {},
   "outputs": [
    {
     "data": {
      "text/plain": [
       "False"
      ]
     },
     "execution_count": 75,
     "metadata": {},
     "output_type": "execute_result"
    }
   ],
   "source": [
    "fruits == 'mango'"
   ]
  },
  {
   "cell_type": "markdown",
   "id": "0e6681e0",
   "metadata": {},
   "source": [
    "Q2"
   ]
  },
  {
   "cell_type": "code",
   "execution_count": 92,
   "id": "f5289907",
   "metadata": {},
   "outputs": [
    {
     "name": "stdout",
     "output_type": "stream",
     "text": [
      "The first and last letters of apple are a and e respectively.\n",
      "The first and last letters of banana are b and a respectively.\n",
      "The first and last letters of pineapple are p and e respectively.\n",
      "The first and last letters of jackfruit are j and t respectively.\n",
      "The first and last letters of peach are p and h respectively.\n",
      "The first and last letters of durian are d and n respectively.\n",
      "The first and last letters of watermelon are w and n respectively.\n",
      "The first and last letters of mango are m and o respectively.\n",
      "The first and last letters of strawberry are s and y respectively.\n",
      "The first and last letters of passionfruit are p and t respectively.\n"
     ]
    }
   ],
   "source": [
    "for fruit in fruits:\n",
    "    print(f'The first and last letters of {fruit} are {fruit[0]} and {fruit[-1]} respectively.')"
   ]
  },
  {
   "cell_type": "markdown",
   "id": "b0b80b15",
   "metadata": {},
   "source": [
    "Q3"
   ]
  },
  {
   "cell_type": "code",
   "execution_count": 97,
   "id": "50c69739",
   "metadata": {},
   "outputs": [
    {
     "name": "stdout",
     "output_type": "stream",
     "text": [
      "apple\n",
      "banana\n",
      "PINEAPPLE\n",
      "jackfruit\n",
      "PEACH\n",
      "durian\n",
      "watermelon\n",
      "mango\n",
      "strawberry\n",
      "PASSIONFRUIT\n"
     ]
    }
   ],
   "source": [
    "for fruit in fruits:\n",
    "    if fruit[0]=='p':\n",
    "        print(fruit.upper())\n",
    "    else:\n",
    "        print(fruit.lower())"
   ]
  },
  {
   "cell_type": "markdown",
   "id": "b455e30e",
   "metadata": {},
   "source": [
    "Q4.1"
   ]
  },
  {
   "cell_type": "code",
   "execution_count": 115,
   "id": "818dfa89",
   "metadata": {},
   "outputs": [
    {
     "data": {
      "text/plain": [
       "['apple',\n",
       " 'banana',\n",
       " 'pineapple',\n",
       " 'jackfruit',\n",
       " 'peach',\n",
       " 'durian',\n",
       " 'watermelon',\n",
       " 'mango',\n",
       " 'strawberry',\n",
       " 'passionfruit',\n",
       " 'dragon fruit',\n",
       " 'apricots',\n",
       " 'oranges']"
      ]
     },
     "execution_count": 115,
     "metadata": {},
     "output_type": "execute_result"
    }
   ],
   "source": [
    "fruits = [\"apple\", \"banana\", \"pineapple\", \"jackfruit\",\n",
    "        \"peach\", \"durian\", \"watermelon\", \"mango\",\n",
    "        \"strawberry\", \"passionfruit\"]\n",
    "\n",
    "fruits+=(\"dragon fruit\", \"apricots\", \"oranges\")\n",
    "fruits"
   ]
  },
  {
   "cell_type": "markdown",
   "id": "3ffffdc5",
   "metadata": {},
   "source": [
    "Q4.2"
   ]
  },
  {
   "cell_type": "code",
   "execution_count": 125,
   "id": "0fd79f31",
   "metadata": {},
   "outputs": [
    {
     "data": {
      "text/plain": [
       "['apple',\n",
       " 'banana',\n",
       " 'pineapple',\n",
       " 'jackfruit',\n",
       " 'peach',\n",
       " 'durian',\n",
       " 'watermelon',\n",
       " 'mango',\n",
       " 'strawberry',\n",
       " 'passionfruit']"
      ]
     },
     "execution_count": 125,
     "metadata": {},
     "output_type": "execute_result"
    }
   ],
   "source": [
    "fruits=['apple',\n",
    " 'banana',\n",
    " 'pineapple',\n",
    " 'jackfruit',\n",
    " 'peach',\n",
    " 'durian',\n",
    " 'watermelon',\n",
    " 'mango',\n",
    " 'strawberry',\n",
    " 'passionfruit',\n",
    " 'dragon fruit',\n",
    " 'apricots',\n",
    " 'oranges']\n",
    "\n",
    "remove_fruits=[\"dragon fruit\", \"apricots\", \"oranges\"]\n",
    "for x in remove_fruits:\n",
    "    fruits.remove(x)\n",
    "\n",
    "fruits"
   ]
  },
  {
   "cell_type": "markdown",
   "id": "1cdc8c83",
   "metadata": {},
   "source": [
    "Q4.3"
   ]
  },
  {
   "cell_type": "code",
   "execution_count": 147,
   "id": "60d83029",
   "metadata": {},
   "outputs": [
    {
     "data": {
      "text/plain": [
       "['apple',\n",
       " 'banana',\n",
       " 'pineapple',\n",
       " 'jackfruit',\n",
       " 'peach',\n",
       " 'dragon fruit',\n",
       " 'apricots',\n",
       " 'oranges',\n",
       " 'durian',\n",
       " 'watermelon',\n",
       " 'mango',\n",
       " 'strawberry',\n",
       " 'passionfruit']"
      ]
     },
     "execution_count": 147,
     "metadata": {},
     "output_type": "execute_result"
    }
   ],
   "source": [
    "fruits = [\"apple\", \"banana\", \"pineapple\", \"jackfruit\",\n",
    "        \"peach\", \"durian\", \"watermelon\", \"mango\",\n",
    "        \"strawberry\", \"passionfruit\"]\n",
    "insert_fruits=[\"dragon fruit\", \"apricots\", \"oranges\"]\n",
    "insert_fruits.reverse()\n",
    "len(fruits)\n",
    "for y in insert_fruits:\n",
    "    fruits.insert(5,y)\n",
    "fruits"
   ]
  },
  {
   "cell_type": "markdown",
   "id": "413e03aa",
   "metadata": {},
   "source": [
    "Q5"
   ]
  },
  {
   "cell_type": "code",
   "execution_count": 155,
   "id": "93e3e1ba",
   "metadata": {},
   "outputs": [
    {
     "name": "stdout",
     "output_type": "stream",
     "text": [
      "pineapple\n",
      "jackfruit\n",
      "dragon fruit\n",
      "watermelon\n",
      "strawberry\n",
      "passionfruit\n"
     ]
    }
   ],
   "source": [
    "fruits=['apple',\n",
    " 'banana',\n",
    " 'pineapple',\n",
    " 'jackfruit',\n",
    " 'peach',\n",
    " 'dragon fruit',\n",
    " 'apricots',\n",
    " 'oranges',\n",
    " 'durian',\n",
    " 'watermelon',\n",
    " 'mango',\n",
    " 'strawberry',\n",
    " 'passionfruit']\n",
    "\n",
    "for z in fruits:\n",
    "    if len(z)>8:\n",
    "        print (z)\n",
    "        "
   ]
  },
  {
   "cell_type": "markdown",
   "id": "8663b88a",
   "metadata": {},
   "source": [
    "## Exercise 3 :  Ciao Fibonacci"
   ]
  },
  {
   "cell_type": "code",
   "execution_count": null,
   "id": "907342db",
   "metadata": {},
   "outputs": [],
   "source": [
    "\n",
    "\n",
    "\n",
    "# Your solution here\n",
    "\n",
    "\n"
   ]
  },
  {
   "cell_type": "code",
   "execution_count": null,
   "id": "c5bfce38",
   "metadata": {},
   "outputs": [],
   "source": []
  },
  {
   "cell_type": "markdown",
   "id": "ab89cdec",
   "metadata": {},
   "source": [
    "## Exercise 4 :  A function for Fibonacci"
   ]
  },
  {
   "cell_type": "code",
   "execution_count": null,
   "id": "791ffdea",
   "metadata": {},
   "outputs": [],
   "source": [
    "\n",
    "\n",
    "\n",
    "# Your solution here\n",
    "\n",
    "\n"
   ]
  },
  {
   "cell_type": "code",
   "execution_count": null,
   "id": "97f6d1d4",
   "metadata": {},
   "outputs": [],
   "source": []
  },
  {
   "cell_type": "markdown",
   "id": "85336bfa",
   "metadata": {},
   "source": [
    "## Exercise 5 :  max_info() without NumPy"
   ]
  },
  {
   "cell_type": "code",
   "execution_count": null,
   "id": "89833394",
   "metadata": {},
   "outputs": [],
   "source": [
    "\n",
    "\n",
    "\n",
    "# Your solution here\n",
    "\n",
    "\n"
   ]
  },
  {
   "cell_type": "code",
   "execution_count": null,
   "id": "b0222a45",
   "metadata": {},
   "outputs": [],
   "source": []
  },
  {
   "cell_type": "markdown",
   "id": "9cbc6575",
   "metadata": {},
   "source": [
    "## Exercise 6 :  Take count"
   ]
  },
  {
   "cell_type": "code",
   "execution_count": null,
   "id": "897d67d3",
   "metadata": {},
   "outputs": [],
   "source": [
    "\n",
    "\n",
    "\n",
    "# Your solution here\n",
    "\n",
    "\n"
   ]
  }
 ],
 "metadata": {
  "kernelspec": {
   "display_name": "Python 3 (ipykernel)",
   "language": "python",
   "name": "python3"
  },
  "language_info": {
   "codemirror_mode": {
    "name": "ipython",
    "version": 3
   },
   "file_extension": ".py",
   "mimetype": "text/x-python",
   "name": "python",
   "nbconvert_exporter": "python",
   "pygments_lexer": "ipython3",
   "version": "3.10.8"
  },
  "toc": {
   "base_numbering": 1,
   "nav_menu": {},
   "number_sections": true,
   "sideBar": true,
   "skip_h1_title": false,
   "title_cell": "Table of Contents",
   "title_sidebar": "Contents",
   "toc_cell": false,
   "toc_position": {},
   "toc_section_display": true,
   "toc_window_display": false
  },
  "vscode": {
   "interpreter": {
    "hash": "31f2aee4e71d21fbe5cf8b01ff0e069b9275f58929596ceb00d14d90e3e16cd6"
   }
  }
 },
 "nbformat": 4,
 "nbformat_minor": 5
}
