{
 "cells": [
  {
   "cell_type": "markdown",
   "id": "123456",
   "metadata": {},
   "source": [
    "<div style=\"text-align:left;font-size:2em\"><span style=\"font-weight:bolder;font-size:1.25em\">SP2273 | Learning Portfolio</span><br><br><span style=\"font-weight:bold;color:darkred\">Basics (Good)</span></div>"
   ]
  },
  {
   "cell_type": "markdown",
   "id": "dc58ff91",
   "metadata": {},
   "source": [
    "## 1 More Python Basics"
   ]
  },
  {
   "cell_type": "markdown",
   "id": "b572702f",
   "metadata": {},
   "source": [
    "### 1.1 Computers read = from Right to Left!"
   ]
  },
  {
   "cell_type": "code",
   "execution_count": 7,
   "id": "80bcf966",
   "metadata": {},
   "outputs": [
    {
     "name": "stdout",
     "output_type": "stream",
     "text": [
      "40\n",
      "x\n"
     ]
    }
   ],
   "source": [
    "\n",
    "# Your code here\n",
    "x = 40\n",
    "y = x + 2\n",
    "print(x)\n",
    "print('x')"
   ]
  },
  {
   "cell_type": "code",
   "execution_count": 8,
   "id": "51ac911a",
   "metadata": {},
   "outputs": [
    {
     "name": "stdout",
     "output_type": "stream",
     "text": [
      "42\n"
     ]
    }
   ],
   "source": [
    "y = 40\n",
    "y = y + 2 #works in programming but not in nornal math\n",
    "print(y)"
   ]
  },
  {
   "cell_type": "code",
   "execution_count": 9,
   "id": "3b17fecc",
   "metadata": {},
   "outputs": [],
   "source": [
    "x = y = 10"
   ]
  },
  {
   "cell_type": "markdown",
   "id": "6a338831",
   "metadata": {},
   "source": [
    "### 1.2 Shorter and cleaner"
   ]
  },
  {
   "cell_type": "code",
   "execution_count": 12,
   "id": "d82b8587",
   "metadata": {},
   "outputs": [
    {
     "name": "stdout",
     "output_type": "stream",
     "text": [
      "42\n",
      "42\n"
     ]
    }
   ],
   "source": [
    "\n",
    "# Your code here\n",
    "#ADDITION\n",
    "y = 40\n",
    "y = y + 2\n",
    "print(y)\n",
    "print(y)"
   ]
  },
  {
   "cell_type": "code",
   "execution_count": 13,
   "id": "0dcbb627",
   "metadata": {},
   "outputs": [
    {
     "name": "stdout",
     "output_type": "stream",
     "text": [
      "42\n"
     ]
    }
   ],
   "source": [
    "print(y)"
   ]
  },
  {
   "cell_type": "code",
   "execution_count": 14,
   "id": "86b20c7d",
   "metadata": {},
   "outputs": [
    {
     "data": {
      "text/plain": [
       "42"
      ]
     },
     "execution_count": 14,
     "metadata": {},
     "output_type": "execute_result"
    }
   ],
   "source": [
    "y = 40\n",
    "y += 2    # Same as y = y + 2\n",
    "y"
   ]
  },
  {
   "cell_type": "code",
   "execution_count": 16,
   "id": "633c1ce1",
   "metadata": {},
   "outputs": [
    {
     "data": {
      "text/plain": [
       "38"
      ]
     },
     "execution_count": 16,
     "metadata": {},
     "output_type": "execute_result"
    }
   ],
   "source": [
    "y #output follows the latest function, not in chronological order"
   ]
  },
  {
   "cell_type": "code",
   "execution_count": 15,
   "id": "6fc93eea",
   "metadata": {},
   "outputs": [
    {
     "data": {
      "text/plain": [
       "38"
      ]
     },
     "execution_count": 15,
     "metadata": {},
     "output_type": "execute_result"
    }
   ],
   "source": [
    "#SUBTRACTION\n",
    "y = 40\n",
    "y -= 2     # Same as y = y - 2\n",
    "y"
   ]
  },
  {
   "cell_type": "code",
   "execution_count": 17,
   "id": "85864c7e",
   "metadata": {},
   "outputs": [
    {
     "data": {
      "text/plain": [
       "20.0"
      ]
     },
     "execution_count": 17,
     "metadata": {},
     "output_type": "execute_result"
    }
   ],
   "source": [
    "#DIVISION\n",
    "y = 40\n",
    "y /= 2    # Same as y = y/2\n",
    "y"
   ]
  },
  {
   "cell_type": "code",
   "execution_count": 18,
   "id": "10b3499d",
   "metadata": {},
   "outputs": [
    {
     "data": {
      "text/plain": [
       "80"
      ]
     },
     "execution_count": 18,
     "metadata": {},
     "output_type": "execute_result"
    }
   ],
   "source": [
    "#MULTIPLICATION\n",
    "y = 40\n",
    "y *= 2    # Same as y = y * 2\n",
    "y\n"
   ]
  },
  {
   "cell_type": "markdown",
   "id": "08200c7d",
   "metadata": {},
   "source": [
    "### 1.3 Asking questions"
   ]
  },
  {
   "cell_type": "code",
   "execution_count": null,
   "id": "6c9b2e3c",
   "metadata": {},
   "outputs": [],
   "source": [
    "\n",
    "# Your code here\n"
   ]
  },
  {
   "cell_type": "code",
   "execution_count": 19,
   "id": "d58290d2",
   "metadata": {},
   "outputs": [],
   "source": [
    "#1: CREATE LIST\n",
    "#2: ASK QNS ABOUT THE LIST"
   ]
  },
  {
   "cell_type": "code",
   "execution_count": 20,
   "id": "5531dbb7",
   "metadata": {},
   "outputs": [],
   "source": [
    "fruits = [\"apple\", \"banana\", \"pineapple\", \"jackfruit\"]\n",
    "vegetables = [\"celery\", \"potato\", \"broccoli\", \"kale\"]"
   ]
  },
  {
   "cell_type": "code",
   "execution_count": 21,
   "id": "a148e31b",
   "metadata": {},
   "outputs": [
    {
     "data": {
      "text/plain": [
       "True"
      ]
     },
     "execution_count": 21,
     "metadata": {},
     "output_type": "execute_result"
    }
   ],
   "source": [
    "\"apple\" in fruits\n"
   ]
  },
  {
   "cell_type": "code",
   "execution_count": 22,
   "id": "b24ac67c",
   "metadata": {},
   "outputs": [
    {
     "data": {
      "text/plain": [
       "False"
      ]
     },
     "execution_count": 22,
     "metadata": {},
     "output_type": "execute_result"
    }
   ],
   "source": [
    "\"peach\" in fruits"
   ]
  },
  {
   "cell_type": "code",
   "execution_count": 23,
   "id": "b0bb36e6",
   "metadata": {},
   "outputs": [
    {
     "data": {
      "text/plain": [
       "True"
      ]
     },
     "execution_count": 23,
     "metadata": {},
     "output_type": "execute_result"
    }
   ],
   "source": [
    "\"peach\" not in fruits"
   ]
  },
  {
   "cell_type": "code",
   "execution_count": 24,
   "id": "6d5cb560",
   "metadata": {},
   "outputs": [
    {
     "data": {
      "text/plain": [
       "True"
      ]
     },
     "execution_count": 24,
     "metadata": {},
     "output_type": "execute_result"
    }
   ],
   "source": [
    "(\"apple\" in fruits) and (\"celery\" in vegetables)"
   ]
  },
  {
   "cell_type": "code",
   "execution_count": 25,
   "id": "dcb0a14f",
   "metadata": {},
   "outputs": [
    {
     "data": {
      "text/plain": [
       "True"
      ]
     },
     "execution_count": 25,
     "metadata": {},
     "output_type": "execute_result"
    }
   ],
   "source": [
    "(\"apple\" in fruits) or (\"celery\" in vegetables)"
   ]
  },
  {
   "cell_type": "code",
   "execution_count": 26,
   "id": "14e11bc0",
   "metadata": {},
   "outputs": [
    {
     "data": {
      "text/plain": [
       "True"
      ]
     },
     "execution_count": 26,
     "metadata": {},
     "output_type": "execute_result"
    }
   ],
   "source": [
    "('apple' in fruits) or ('guava' in vegetables)"
   ]
  },
  {
   "cell_type": "markdown",
   "id": "db89a4d8",
   "metadata": {},
   "source": [
    "|Questions/Condition|Math Symbol|Pyton Symbol\n",
    "|:---|---|---:|\n",
    "|Equals?|=|==|\n",
    "|Not equals?|≠|!=|\n",
    "|Less than?|<|<|\n",
    "|Greater than?|>|>|\n",
    "|Less than or equal?|≤|<=|\n",
    "|Greater than or equal?|≤|>=|"
   ]
  },
  {
   "cell_type": "code",
   "execution_count": 27,
   "id": "6689a2cd",
   "metadata": {},
   "outputs": [
    {
     "data": {
      "text/plain": [
       "False"
      ]
     },
     "execution_count": 27,
     "metadata": {},
     "output_type": "execute_result"
    }
   ],
   "source": [
    "3>10.5"
   ]
  },
  {
   "cell_type": "code",
   "execution_count": 29,
   "id": "2d5e6803",
   "metadata": {},
   "outputs": [
    {
     "data": {
      "text/plain": [
       "False"
      ]
     },
     "execution_count": 29,
     "metadata": {},
     "output_type": "execute_result"
    }
   ],
   "source": [
    "'apples' > 'oranges' \n",
    "#This comparison works because English letters are internally represented as numbers. \n",
    "#For example, a is 97 and o is 111.\n",
    "#ACSII"
   ]
  },
  {
   "cell_type": "code",
   "execution_count": 30,
   "id": "4b413e72",
   "metadata": {},
   "outputs": [
    {
     "data": {
      "text/plain": [
       "True"
      ]
     },
     "execution_count": 30,
     "metadata": {},
     "output_type": "execute_result"
    }
   ],
   "source": [
    "(x > 5) and (x < 15) "
   ]
  },
  {
   "cell_type": "code",
   "execution_count": 31,
   "id": "422b5c88",
   "metadata": {},
   "outputs": [
    {
     "data": {
      "text/plain": [
       "True"
      ]
     },
     "execution_count": 31,
     "metadata": {},
     "output_type": "execute_result"
    }
   ],
   "source": [
    "5 < x < 15"
   ]
  },
  {
   "cell_type": "code",
   "execution_count": null,
   "id": "ad387fc9",
   "metadata": {},
   "outputs": [],
   "source": [
    "#The above 2 lines are equal"
   ]
  },
  {
   "cell_type": "markdown",
   "id": "39f43ed1",
   "metadata": {},
   "source": [
    "### 1.4 There is more to if"
   ]
  },
  {
   "cell_type": "code",
   "execution_count": 1,
   "id": "4873d964",
   "metadata": {},
   "outputs": [
    {
     "name": "stdout",
     "output_type": "stream",
     "text": [
      "Hello Hero | Batman!\n"
     ]
    }
   ],
   "source": [
    "\n",
    "# Your code here\n",
    "\n",
    "name = 'Batman'\n",
    "\n",
    "if name == 'Batman':\n",
    "    print('Hello Hero | Batman!')\n",
    "elif name == 'Robin':\n",
    "    print('Hello Sidekick | Robin!')\n",
    "else:\n",
    "    print('Hello World!')"
   ]
  },
  {
   "cell_type": "code",
   "execution_count": 2,
   "id": "5a9b9632",
   "metadata": {},
   "outputs": [
    {
     "name": "stdout",
     "output_type": "stream",
     "text": [
      "SP2273-coding module\n"
     ]
    }
   ],
   "source": [
    "module='SP2273'\n",
    "if module=='SP2273':\n",
    "    print('SP2273-coding module')\n",
    "elif module =='SP2271':\n",
    "    print('SP2271-writing module')\n",
    "else:\n",
    "    print('Not a module')"
   ]
  },
  {
   "cell_type": "code",
   "execution_count": 10,
   "id": "3fa45629",
   "metadata": {},
   "outputs": [
    {
     "name": "stdout",
     "output_type": "stream",
     "text": [
      "SP2271-writing module\n"
     ]
    }
   ],
   "source": [
    "module='SP2271'\n",
    "if module=='SP2273':\n",
    "    print('SP2273-coding module')\n",
    "elif module =='SP2271':\n",
    "    print('SP2271-writing module')\n",
    "else:\n",
    "    print('Not a module')"
   ]
  },
  {
   "cell_type": "code",
   "execution_count": 11,
   "id": "ec3aa2ee",
   "metadata": {},
   "outputs": [
    {
     "name": "stdout",
     "output_type": "stream",
     "text": [
      "Not a module\n"
     ]
    }
   ],
   "source": [
    "module='SP2274'\n",
    "\n",
    "if module=='SP2273':\n",
    "    print('SP2273-coding module')\n",
    "elif module =='SP2271':\n",
    "    print('SP2271-writing module')\n",
    "else:\n",
    "    print('Not a module')"
   ]
  },
  {
   "cell_type": "markdown",
   "id": "f5239ed4",
   "metadata": {},
   "source": [
    "### 1.5 Python stores information in different formats or types."
   ]
  },
  {
   "cell_type": "code",
   "execution_count": 12,
   "id": "be1af3a4",
   "metadata": {},
   "outputs": [
    {
     "name": "stdout",
     "output_type": "stream",
     "text": [
      "1 <class 'int'>\n"
     ]
    }
   ],
   "source": [
    "\n",
    "# Your code here\n",
    "x = int(1.234)\n",
    "print(x, type(x))"
   ]
  },
  {
   "cell_type": "code",
   "execution_count": 13,
   "id": "fbc86234",
   "metadata": {},
   "outputs": [
    {
     "name": "stdout",
     "output_type": "stream",
     "text": [
      "1.234 <class 'str'>\n"
     ]
    }
   ],
   "source": [
    "x = str(1.234)\n",
    "print(x, type(x))"
   ]
  },
  {
   "cell_type": "code",
   "execution_count": 14,
   "id": "441392c3",
   "metadata": {},
   "outputs": [
    {
     "name": "stdout",
     "output_type": "stream",
     "text": [
      "1.234 <class 'float'>\n"
     ]
    }
   ],
   "source": [
    "x = float(1.234)\n",
    "print(x, type(x))"
   ]
  },
  {
   "cell_type": "code",
   "execution_count": 15,
   "id": "638261b0",
   "metadata": {},
   "outputs": [
    {
     "name": "stdout",
     "output_type": "stream",
     "text": [
      "(1.234+0j) <class 'complex'>\n"
     ]
    }
   ],
   "source": [
    "x = complex(1.234)\n",
    "print(x, type(x))"
   ]
  },
  {
   "cell_type": "code",
   "execution_count": 16,
   "id": "031e9c59",
   "metadata": {},
   "outputs": [],
   "source": [
    "#Typecasting-forcing python to change code type"
   ]
  },
  {
   "cell_type": "code",
   "execution_count": 17,
   "id": "db1397c8",
   "metadata": {},
   "outputs": [
    {
     "name": "stdout",
     "output_type": "stream",
     "text": [
      "1.234 <class 'str'>\n"
     ]
    }
   ],
   "source": [
    "x = '1.234'\n",
    "print(x, type(x))"
   ]
  },
  {
   "cell_type": "code",
   "execution_count": 18,
   "id": "82a9cf4c",
   "metadata": {},
   "outputs": [
    {
     "name": "stdout",
     "output_type": "stream",
     "text": [
      "1.234 <class 'float'>\n"
     ]
    }
   ],
   "source": [
    "x = float(x)\n",
    "print(x, type(x))"
   ]
  },
  {
   "cell_type": "markdown",
   "id": "5e463939",
   "metadata": {},
   "source": [
    "### 1.6 Combining English and variables"
   ]
  },
  {
   "cell_type": "code",
   "execution_count": 19,
   "id": "3e0865ab",
   "metadata": {},
   "outputs": [
    {
     "name": "stdout",
     "output_type": "stream",
     "text": [
      "Hello Batman!\n"
     ]
    }
   ],
   "source": [
    "\n",
    "# Your code here\n",
    "name = \"Batman\"\n",
    "print(f\"Hello {name}!\")"
   ]
  },
  {
   "cell_type": "code",
   "execution_count": 20,
   "id": "fddfff96",
   "metadata": {},
   "outputs": [
    {
     "name": "stdout",
     "output_type": "stream",
     "text": [
      "Hello BATMAN!\n"
     ]
    }
   ],
   "source": [
    "name = \"Batman\"\n",
    "print(f\"Hello {name.upper()}!\")"
   ]
  },
  {
   "cell_type": "code",
   "execution_count": 24,
   "id": "c62a649c",
   "metadata": {},
   "outputs": [
    {
     "name": "stdout",
     "output_type": "stream",
     "text": [
      "The value of 10 squared is 100!\n"
     ]
    }
   ],
   "source": [
    "x = 10\n",
    "print(f\"The value of {x} squared is {x**2}!\")"
   ]
  },
  {
   "cell_type": "code",
   "execution_count": 25,
   "id": "f22f2587",
   "metadata": {},
   "outputs": [
    {
     "name": "stdout",
     "output_type": "stream",
     "text": [
      "The value of 10 squared is [x**2]!\n"
     ]
    }
   ],
   "source": [
    "x = 10\n",
    "print(f\"The value of {x} squared is [x**2]!\")"
   ]
  },
  {
   "cell_type": "code",
   "execution_count": 22,
   "id": "c5ace7e6",
   "metadata": {},
   "outputs": [],
   "source": [
    "#Note the f and the { } in the above command. This is called f-string or string interpolation.\n",
    "#Note that [] brackets wont work"
   ]
  },
  {
   "cell_type": "code",
   "execution_count": 26,
   "id": "4ab742f0",
   "metadata": {},
   "outputs": [
    {
     "name": "stdout",
     "output_type": "stream",
     "text": [
      "Bruce Wayne is Batman.\n"
     ]
    }
   ],
   "source": [
    "text = 'Bruce Wayne is Batman.'\n",
    "print(f'{text}')"
   ]
  },
  {
   "cell_type": "code",
   "execution_count": 27,
   "id": "73233903",
   "metadata": {},
   "outputs": [
    {
     "name": "stdout",
     "output_type": "stream",
     "text": [
      "        Bruce Wayne is Batman.\n"
     ]
    }
   ],
   "source": [
    "print(f'{text:>30}')      # A block of 30 characters; aligned right"
   ]
  },
  {
   "cell_type": "code",
   "execution_count": 28,
   "id": "cedc13ea",
   "metadata": {},
   "outputs": [
    {
     "name": "stdout",
     "output_type": "stream",
     "text": [
      "    Bruce Wayne is Batman.    \n"
     ]
    }
   ],
   "source": [
    "print(f'{text:^30}')      # A block of 30 characters; aligned centre"
   ]
  },
  {
   "cell_type": "code",
   "execution_count": 29,
   "id": "709ed1b8",
   "metadata": {},
   "outputs": [
    {
     "name": "stdout",
     "output_type": "stream",
     "text": [
      "Bruce Wayne is Batman.        \n"
     ]
    }
   ],
   "source": [
    "print(f'{text:<30}')      # A block of 30 characters; aligned left"
   ]
  },
  {
   "cell_type": "code",
   "execution_count": 1,
   "id": "721e15ea",
   "metadata": {},
   "outputs": [
    {
     "name": "stdout",
     "output_type": "stream",
     "text": [
      "Collecting package metadata (current_repodata.json): done\n",
      "Solving environment: failed with initial frozen solve. Retrying with flexible solve.\n",
      "Collecting package metadata (repodata.json): done\n",
      "Solving environment: failed with initial frozen solve. Retrying with flexible solve.\n",
      "\n",
      "PackagesNotFoundError: The following packages are not available from current channels:\n",
      "\n",
      "  - numpy.\n",
      "\n",
      "Current channels:\n",
      "\n",
      "  - https://repo.anaconda.com/pkgs/main/osx-arm64\n",
      "  - https://repo.anaconda.com/pkgs/main/noarch\n",
      "  - https://repo.anaconda.com/pkgs/r/osx-arm64\n",
      "  - https://repo.anaconda.com/pkgs/r/noarch\n",
      "\n",
      "To search for alternate channels that may provide the conda package you're\n",
      "looking for, navigate to\n",
      "\n",
      "    https://anaconda.org\n",
      "\n",
      "and use the search bar at the top of the page.\n",
      "\n",
      "\n"
     ]
    }
   ],
   "source": [
    "!conda install numpy."
   ]
  },
  {
   "cell_type": "code",
   "execution_count": 2,
   "id": "08882c1b",
   "metadata": {},
   "outputs": [],
   "source": [
    "import numpy as np"
   ]
  },
  {
   "cell_type": "code",
   "execution_count": 3,
   "id": "2db1a158",
   "metadata": {},
   "outputs": [
    {
     "name": "stdout",
     "output_type": "stream",
     "text": [
      "The cube of pi to 6 decimal places is 31.006277\n"
     ]
    }
   ],
   "source": [
    "print(f'The cube of pi to 6 decimal places is {np.pi**3:.6f}')"
   ]
  },
  {
   "cell_type": "code",
   "execution_count": 4,
   "id": "bf8f7b58",
   "metadata": {},
   "outputs": [
    {
     "name": "stdout",
     "output_type": "stream",
     "text": [
      "3.141592653589793\n"
     ]
    }
   ],
   "source": [
    "print(np.pi)"
   ]
  },
  {
   "cell_type": "code",
   "execution_count": 40,
   "id": "97759b4c",
   "metadata": {},
   "outputs": [],
   "source": [
    "x = 'test'"
   ]
  },
  {
   "cell_type": "code",
   "execution_count": 42,
   "id": "5893f3c4",
   "metadata": {},
   "outputs": [
    {
     "name": "stdout",
     "output_type": "stream",
     "text": [
      "The cube of pi to 6 decimal places is tes0000\n"
     ]
    }
   ],
   "source": [
    "print(f'The cube of pi to 6 decimal places is {x:07.3}')\n",
    "#The f in .6f is used to tell the f-string to output the number in decimal notation."
   ]
  },
  {
   "cell_type": "code",
   "execution_count": 12,
   "id": "2ddb1d39",
   "metadata": {},
   "outputs": [
    {
     "name": "stdout",
     "output_type": "stream",
     "text": [
      "The cube of pi to 6 decimal places is 3.100628e+01\n"
     ]
    }
   ],
   "source": [
    "print(f'The cube of pi to 6 decimal places is {np.pi**3:.6e}') \n",
    "#The e in .6e is used to tell the f-string to output the number in scientific notation."
   ]
  },
  {
   "cell_type": "markdown",
   "id": "1a75beae",
   "metadata": {},
   "source": [
    "The f-string formatting has the structure {X:>0Y.ZW}. \n",
    "So here is what you can use for each of the letters (X,Y,>,0,Z,W) ."
   ]
  },
  {
   "cell_type": "markdown",
   "id": "3a54932b",
   "metadata": {},
   "source": [
    "W\tSpecifies the type of variable:\n",
    "f - float \n",
    "d- integer \n",
    "s- string \n",
    "g - Ask python figure out"
   ]
  },
  {
   "cell_type": "markdown",
   "id": "2635f7ce",
   "metadata": {},
   "source": [
    "X\tVariable to format (Can be a number or a string)"
   ]
  },
  {
   "cell_type": "markdown",
   "id": "c70c1aaa",
   "metadata": {},
   "source": [
    ">\tAlignment Use <, >, ^ for Left, Right and Centre"
   ]
  },
  {
   "cell_type": "markdown",
   "id": "1c590024",
   "metadata": {},
   "source": [
    "Y\tTotal number of characters ALLOCATED for the answer\n",
    "    if got less than expected, then will fill up with 0's\n",
    "    For decimals, 3 would not be possible since python forcing to print more than 3 characters hence will override.\n",
    "    Eg. {3.14159265:3.5} will print 3.14159 instead of 3.14 beacuse python default number of characters is more than the thing we wanted to print."
   ]
  },
  {
   "cell_type": "markdown",
   "id": "64538a5e",
   "metadata": {},
   "source": [
    "Z\tNumber of decimal places"
   ]
  },
  {
   "cell_type": "markdown",
   "id": "a1589d40",
   "metadata": {},
   "source": [
    "0\tUse 0’s to pad the spaces"
   ]
  },
  {
   "cell_type": "markdown",
   "id": "49a66b24",
   "metadata": {},
   "source": [
    "### 1.7 Python can be a prima-donna."
   ]
  },
  {
   "cell_type": "code",
   "execution_count": 2,
   "id": "2a3b7c9f",
   "metadata": {},
   "outputs": [
    {
     "ename": "SyntaxError",
     "evalue": "Missing parentheses in call to 'print'. Did you mean print(...)? (1012304432.py, line 2)",
     "output_type": "error",
     "traceback": [
      "\u001b[0;36m  Cell \u001b[0;32mIn[2], line 2\u001b[0;36m\u001b[0m\n\u001b[0;31m    print hello world #error is the ()\u001b[0m\n\u001b[0m    ^\u001b[0m\n\u001b[0;31mSyntaxError\u001b[0m\u001b[0;31m:\u001b[0m Missing parentheses in call to 'print'. Did you mean print(...)?\n"
     ]
    }
   ],
   "source": [
    "\n",
    "# Your code here\n",
    "print hello world #error is the ()"
   ]
  },
  {
   "cell_type": "markdown",
   "id": "c615c29a",
   "metadata": {},
   "source": [
    "## 2 Best Practices for Scientific Computing"
   ]
  },
  {
   "cell_type": "markdown",
   "id": "b11c68c2",
   "metadata": {},
   "source": [
    "### 2.1 Some tips"
   ]
  },
  {
   "cell_type": "code",
   "execution_count": 3,
   "id": "a4019dfd",
   "metadata": {},
   "outputs": [],
   "source": [
    "\n",
    "# Your code here\n"
   ]
  },
  {
   "cell_type": "markdown",
   "id": "66fc09ed",
   "metadata": {},
   "source": [
    "I have only given those points that apply to you now. I will bring up more as we progress on our journey.\n",
    "\n",
    "1. Write programs for people, not computers.\n",
    "1. Optimise software only after it works correctly.\n",
    "1. Document design and purpose, not mechanics.\n",
    "1. Collaborate."
   ]
  },
  {
   "cell_type": "markdown",
   "id": "b5ba008b",
   "metadata": {},
   "source": [
    "### 2.2 Getting help."
   ]
  },
  {
   "cell_type": "code",
   "execution_count": null,
   "id": "1a7ee5d9",
   "metadata": {},
   "outputs": [],
   "source": [
    "\n",
    "# Your code here\n"
   ]
  },
  {
   "cell_type": "markdown",
   "id": "5966b6b4",
   "metadata": {},
   "source": [
    "The internet (e.g. [stack overflow)](https://stackoverflow.com/questions/tagged/python) is the fastest way to get a question about programming answered. However, you can also get information from within Python by:"
   ]
  },
  {
   "cell_type": "markdown",
   "id": "8b55ffdd",
   "metadata": {},
   "source": [
    "For example:\n",
    "    can type (help(print)"
   ]
  },
  {
   "cell_type": "markdown",
   "id": "95c690d0",
   "metadata": {},
   "source": [
    "## Exercise 1 :  Bias for some heroes"
   ]
  },
  {
   "cell_type": "code",
   "execution_count": 2,
   "id": "0ed37944",
   "metadata": {},
   "outputs": [
    {
     "ename": "IndentationError",
     "evalue": "unexpected indent (2875081110.py, line 2)",
     "output_type": "error",
     "traceback": [
      "\u001b[0;36m  Cell \u001b[0;32mIn[2], line 2\u001b[0;36m\u001b[0m\n\u001b[0;31m    def hello(name):\u001b[0m\n\u001b[0m    ^\u001b[0m\n\u001b[0;31mIndentationError\u001b[0m\u001b[0;31m:\u001b[0m unexpected indent\n"
     ]
    }
   ],
   "source": [
    "Qn: decode\n",
    "    def hello(name):\n",
    "    if name == \"Batman\":\n",
    "        print(\"Hello Batman!\")\n",
    "    else:\n",
    "        print(\"Hello World!\")\n",
    "\n",
    "\n",
    "# Your solution here\n",
    "\n",
    "\n"
   ]
  },
  {
   "cell_type": "code",
   "execution_count": 60,
   "id": "6452c8fa",
   "metadata": {},
   "outputs": [
    {
     "name": "stdout",
     "output_type": "stream",
     "text": [
      "Wonder Woman\n"
     ]
    }
   ],
   "source": [
    "name = 'Superman'\n",
    "print(name == ('Batman' or 'Wonder Woman'))"
   ]
  },
  {
   "cell_type": "code",
   "execution_count": 72,
   "id": "d027007f",
   "metadata": {},
   "outputs": [
    {
     "name": "stdout",
     "output_type": "stream",
     "text": [
      "Wonder Woman\n"
     ]
    }
   ],
   "source": [
    "name = 'Superman'\n",
    "print(name == 'Batman' or 'Wonder Woman')"
   ]
  },
  {
   "cell_type": "code",
   "execution_count": 73,
   "id": "8b37afa3",
   "metadata": {},
   "outputs": [
    {
     "name": "stdout",
     "output_type": "stream",
     "text": [
      "Hello BATMAN!\n",
      "Hello WONDER WOMAN!\n",
      "Hello aqua man!\n"
     ]
    }
   ],
   "source": [
    "def hello(name):\n",
    "    if name == 'Batman' or name=='Wonder Woman':\n",
    "        print(f\"Hello {name.upper()}!\")\n",
    "    else:\n",
    "        print(f\"Hello {name.lower()}!\")\n",
    "    \n",
    "hello('Batman')\n",
    "hello('Wonder Woman')\n",
    "hello('Aqua Man')\n",
    "\n",
    "#python runs name=='Batman' first--> gives false, then runs 'Wonder Woman'--> gives Wonder Woman, \n",
    "#then if(false or Wonder Woman)--> always give if(Wonder Woman) because python will always choose non-false\n",
    "#Hence, only when Wonder Woman is there, then and only then it will print correctly, else is lower case\n",
    "#Solution: if name==''or name==''NOT if name==''or''"
   ]
  },
  {
   "cell_type": "code",
   "execution_count": null,
   "id": "b435c5b5",
   "metadata": {},
   "outputs": [],
   "source": [
    "if name == 'Batman'"
   ]
  },
  {
   "cell_type": "code",
   "execution_count": 77,
   "id": "97cd0b98",
   "metadata": {},
   "outputs": [
    {
     "name": "stdout",
     "output_type": "stream",
     "text": [
      "Hello BATMAN!\n",
      "Hello WONDER WOMAN!\n",
      "Hello aqua man!\n",
      "Hello iron man!\n"
     ]
    },
    {
     "data": {
      "text/plain": [
       "'Wonder Woman'"
      ]
     },
     "execution_count": 77,
     "metadata": {},
     "output_type": "execute_result"
    }
   ],
   "source": [
    "def hello(name):\n",
    "    if name == ('Batman'):\n",
    "        print(f\"Hello {name.upper()}!\")\n",
    "    elif name == ('Wonder Woman'):\n",
    "        print(f\"Hello {name.upper()}!\")\n",
    "    else:\n",
    "        print(f\"Hello {name.lower()}!\")\n",
    "\n",
    "hello('Batman')\n",
    "hello('Wonder Woman')\n",
    "hello('Aqua Man')\n",
    "hello('Iron Man')\n",
    "'Wonder Woman'\n"
   ]
  },
  {
   "cell_type": "code",
   "execution_count": 80,
   "id": "baca186b",
   "metadata": {},
   "outputs": [
    {
     "name": "stdout",
     "output_type": "stream",
     "text": [
      "Hello BATMAN!\n",
      "Hello BLACK WIDOW!\n",
      "Hello aqua man!\n"
     ]
    }
   ],
   "source": [
    "def hello(name):\n",
    "    if name == 'Batman':\n",
    "        print(f\"Hello {name.upper()}!\")\n",
    "    elif name == 'Black Widow':\n",
    "        print(f\"Hello {name.upper()}!\")\n",
    "    else: \n",
    "        print(f'Hello {name.lower()}!')\n",
    "\n",
    "\n",
    "hello('Batman')    \n",
    "hello('Black Widow')\n",
    "hello('Aqua Man')"
   ]
  },
  {
   "cell_type": "markdown",
   "id": "251c7aef",
   "metadata": {},
   "source": [
    "## Exercise 2 :  Bias for some heroes, continues"
   ]
  },
  {
   "cell_type": "code",
   "execution_count": null,
   "id": "5c56d8d5",
   "metadata": {},
   "outputs": [],
   "source": [
    "batMan = 5\n",
    "str(batMan)"
   ]
  },
  {
   "cell_type": "code",
   "execution_count": null,
   "id": "d4792407",
   "metadata": {},
   "outputs": [],
   "source": [
    "\n",
    "\n",
    "\n",
    "# Your solution here\n",
    "\n",
    "\n"
   ]
  },
  {
   "cell_type": "code",
   "execution_count": 84,
   "id": "b10ec413",
   "metadata": {},
   "outputs": [
    {
     "ename": "NameError",
     "evalue": "name 'batMan' is not defined",
     "output_type": "error",
     "traceback": [
      "\u001b[0;31m---------------------------------------------------------------------------\u001b[0m",
      "\u001b[0;31mNameError\u001b[0m                                 Traceback (most recent call last)",
      "Cell \u001b[0;32mIn[84], line 9\u001b[0m\n\u001b[1;32m      6\u001b[0m     \u001b[38;5;28;01melse\u001b[39;00m:\n\u001b[1;32m      7\u001b[0m         \u001b[38;5;28mprint\u001b[39m(\u001b[38;5;124mf\u001b[39m\u001b[38;5;124m\"\u001b[39m\u001b[38;5;124mHello \u001b[39m\u001b[38;5;132;01m{\u001b[39;00mname\u001b[38;5;241m.\u001b[39mlower()\u001b[38;5;132;01m}\u001b[39;00m\u001b[38;5;124m!\u001b[39m\u001b[38;5;124m\"\u001b[39m)\n\u001b[0;32m----> 9\u001b[0m hello(\u001b[38;5;28mstr\u001b[39m(\u001b[43mbatMan\u001b[49m))\n\u001b[1;32m     10\u001b[0m hello(batman)\n\u001b[1;32m     11\u001b[0m hello(upper\u001b[38;5;241m.\u001b[39mbatMan)\n",
      "\u001b[0;31mNameError\u001b[0m: name 'batMan' is not defined"
     ]
    }
   ],
   "source": [
    "def hello(name):\n",
    "    if name == ('Batman'):\n",
    "        print(f\"Hello {name.upper()}!\")\n",
    "    elif name == ('Wonder Woman'):\n",
    "        print(f\"Hello {name.upper()}!\")\n",
    "    else:\n",
    "        print(f\"Hello {name.lower()}!\")\n",
    "    \n",
    "hello(str(batMan)) #batMan here is a variable and not defined\n"
   ]
  },
  {
   "cell_type": "code",
   "execution_count": 2,
   "id": "42d2dae9",
   "metadata": {},
   "outputs": [
    {
     "name": "stdout",
     "output_type": "stream",
     "text": [
      "Hello BATMAN!\n",
      "Hello WONDER WOMAN!\n",
      "Hello aqua man!\n"
     ]
    }
   ],
   "source": [
    "def hello(name):\n",
    "    name = name.upper()\n",
    "    if name == 'BATMAN':\n",
    "        print(f\"Hello {name.upper()}!\")\n",
    "    elif name == 'WONDER WOMAN':\n",
    "        print(f\"Hello {name.upper()}!\")\n",
    "    else:\n",
    "        print(f\"Hello {name.lower()}!\")\n",
    "        \n",
    "hello('batMan')\n",
    "hello('wonDer WOMan')\n",
    "hello('AQUa maN')"
   ]
  },
  {
   "cell_type": "markdown",
   "id": "3dce404f",
   "metadata": {},
   "source": [
    "## Exercise 3 :  Look for help to replace"
   ]
  },
  {
   "cell_type": "code",
   "execution_count": null,
   "id": "be7fe5d8",
   "metadata": {},
   "outputs": [],
   "source": [
    "\n",
    "\n",
    "\n",
    "# Your solution here\n",
    "\n",
    "\n"
   ]
  },
  {
   "cell_type": "code",
   "execution_count": 4,
   "id": "76572b95",
   "metadata": {},
   "outputs": [],
   "source": [
    "string='The Joker lives in Gotham City.'"
   ]
  },
  {
   "cell_type": "code",
   "execution_count": 9,
   "id": "b99dcd19",
   "metadata": {},
   "outputs": [
    {
     "data": {
      "text/plain": [
       "'The Batman lives in Gotham City.'"
      ]
     },
     "execution_count": 9,
     "metadata": {},
     "output_type": "execute_result"
    }
   ],
   "source": [
    "string.replace( 'Joker', 'Batman' )"
   ]
  },
  {
   "cell_type": "code",
   "execution_count": 10,
   "id": "372331d2",
   "metadata": {},
   "outputs": [],
   "source": [
    "x='I want to sleep.'"
   ]
  },
  {
   "cell_type": "code",
   "execution_count": 11,
   "id": "b55b77a7",
   "metadata": {},
   "outputs": [
    {
     "data": {
      "text/plain": [
       "'I want to study.'"
      ]
     },
     "execution_count": 11,
     "metadata": {},
     "output_type": "execute_result"
    }
   ],
   "source": [
    "x.replace('sleep','study')"
   ]
  }
 ],
 "metadata": {
  "kernelspec": {
   "display_name": "Python 3 (ipykernel)",
   "language": "python",
   "name": "python3"
  },
  "language_info": {
   "codemirror_mode": {
    "name": "ipython",
    "version": 3
   },
   "file_extension": ".py",
   "mimetype": "text/x-python",
   "name": "python",
   "nbconvert_exporter": "python",
   "pygments_lexer": "ipython3",
   "version": "3.10.8"
  },
  "toc": {
   "base_numbering": 1,
   "nav_menu": {},
   "number_sections": true,
   "sideBar": true,
   "skip_h1_title": false,
   "title_cell": "Table of Contents",
   "title_sidebar": "Contents",
   "toc_cell": false,
   "toc_position": {},
   "toc_section_display": true,
   "toc_window_display": false
  },
  "vscode": {
   "interpreter": {
    "hash": "31f2aee4e71d21fbe5cf8b01ff0e069b9275f58929596ceb00d14d90e3e16cd6"
   }
  }
 },
 "nbformat": 4,
 "nbformat_minor": 5
}
