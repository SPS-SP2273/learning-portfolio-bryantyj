{
 "cells": [
  {
   "cell_type": "markdown",
   "id": "123456",
   "metadata": {},
   "source": [
    "<div style=\"text-align:left;font-size:2em\"><span style=\"font-weight:bolder;font-size:1.25em\">SP2273 | Learning Portfolio</span><br><br><span style=\"font-weight:bold;color:darkred\">Basics (Need)</span></div>"
   ]
  },
  {
   "cell_type": "markdown",
   "id": "0ef4cff2",
   "metadata": {},
   "source": [
    "## 1 Some Python Basics"
   ]
  },
  {
   "cell_type": "markdown",
   "id": "cb197c1e",
   "metadata": {},
   "source": [
    "### 1.1 Functions"
   ]
  },
  {
   "cell_type": "code",
   "execution_count": 1,
   "id": "d89ec6ae",
   "metadata": {},
   "outputs": [
    {
     "name": "stdout",
     "output_type": "stream",
     "text": [
      "Hello world!\n"
     ]
    }
   ],
   "source": [
    "\n",
    "# Your code here\n",
    "print('Hello world!')\n"
   ]
  },
  {
   "cell_type": "markdown",
   "id": "27020f9b",
   "metadata": {},
   "source": [
    "### 1.2 Python is interpreted"
   ]
  },
  {
   "cell_type": "code",
   "execution_count": 1,
   "id": "ace48a18",
   "metadata": {},
   "outputs": [
    {
     "name": "stdout",
     "output_type": "stream",
     "text": [
      "Hello World\n",
      "Hello World again\n",
      "Hello World!\n"
     ]
    }
   ],
   "source": [
    "\n",
    "# Your code here\n",
    "print('Hello World')\n",
    "print('Hello World again')\n",
    "print('Hello World!')\n"
   ]
  },
  {
   "cell_type": "markdown",
   "id": "88d7f6d9",
   "metadata": {},
   "source": [
    "### 1.3 Python is sensitive."
   ]
  },
  {
   "cell_type": "code",
   "execution_count": 3,
   "id": "0346aa7c",
   "metadata": {},
   "outputs": [
    {
     "ename": "NameError",
     "evalue": "name 'Print' is not defined",
     "output_type": "error",
     "traceback": [
      "\u001b[0;31m---------------------------------------------------------------------------\u001b[0m",
      "\u001b[0;31mNameError\u001b[0m                                 Traceback (most recent call last)",
      "Cell \u001b[0;32mIn[3], line 2\u001b[0m\n\u001b[1;32m      1\u001b[0m \u001b[38;5;66;03m# Your code here\u001b[39;00m\n\u001b[0;32m----> 2\u001b[0m \u001b[43mPrint\u001b[49m(\u001b[38;5;124m'\u001b[39m\u001b[38;5;124mHello World!\u001b[39m\u001b[38;5;124m'\u001b[39m)\n",
      "\u001b[0;31mNameError\u001b[0m: name 'Print' is not defined"
     ]
    }
   ],
   "source": [
    "\n",
    "# Your code here\n",
    "Print('Hello World!') ##python is case sensitive\n"
   ]
  },
  {
   "cell_type": "markdown",
   "id": "980543aa",
   "metadata": {},
   "source": [
    "### 1.4 Comments"
   ]
  },
  {
   "cell_type": "code",
   "execution_count": 2,
   "id": "18647585",
   "metadata": {},
   "outputs": [
    {
     "name": "stdout",
     "output_type": "stream",
     "text": [
      "Hello world\n"
     ]
    }
   ],
   "source": [
    "\n",
    "# Your code here\n",
    "print(\"Hello world\" )     # Printing \"Hello World.\"\n"
   ]
  },
  {
   "cell_type": "code",
   "execution_count": 3,
   "id": "1f9b0c5d",
   "metadata": {},
   "outputs": [
    {
     "name": "stdout",
     "output_type": "stream",
     "text": [
      "One\n",
      "Three\n"
     ]
    }
   ],
   "source": [
    "# This is a comment\n",
    "print('One')              # This is a comment.\n",
    "# print('Two')            # The interpreter ignores this line.\n",
    "print('Three')            # This is\n",
    "                          # also a way to\n",
    "                          # write comments"
   ]
  },
  {
   "cell_type": "markdown",
   "id": "77f18143",
   "metadata": {},
   "source": [
    "### 1.5 = is not the same as =="
   ]
  },
  {
   "cell_type": "code",
   "execution_count": 1,
   "id": "9e94f092",
   "metadata": {},
   "outputs": [
    {
     "data": {
      "text/plain": [
       "True"
      ]
     },
     "execution_count": 1,
     "metadata": {},
     "output_type": "execute_result"
    }
   ],
   "source": [
    "\n",
    "# Your code here\n",
    "name = 'Batman'            # Make name carry 'Batman'\n",
    "name == 'Batman'           # Tell me if name is equal to 'Batman'?\n",
    "                           # Answer:  True or False\n"
   ]
  },
  {
   "cell_type": "markdown",
   "id": "11f7b104",
   "metadata": {},
   "source": [
    "### 1.6 Use if to make decisions"
   ]
  },
  {
   "cell_type": "code",
   "execution_count": 2,
   "id": "a9499373",
   "metadata": {},
   "outputs": [
    {
     "name": "stdout",
     "output_type": "stream",
     "text": [
      "Hello Hero | Batman!\n"
     ]
    }
   ],
   "source": [
    "\n",
    "# Your code here\n",
    "name = 'Batman'\n",
    "\n",
    "if name == 'Batman':\n",
    "    print('Hello Hero | Batman!')\n",
    "else:\n",
    "    print('Hello World!')"
   ]
  },
  {
   "cell_type": "markdown",
   "id": "55a9bcdc",
   "metadata": {},
   "source": [
    "### 1.7 Indentations (spaces) are sooo IMPORTANT!"
   ]
  },
  {
   "cell_type": "code",
   "execution_count": 3,
   "id": "e8eb1c9b",
   "metadata": {},
   "outputs": [
    {
     "name": "stdout",
     "output_type": "stream",
     "text": [
      "10\n"
     ]
    }
   ],
   "source": [
    "\n",
    "# Your code here\n",
    "x = 10\n",
    "print(x)"
   ]
  },
  {
   "cell_type": "code",
   "execution_count": 4,
   "id": "c0ceb52c",
   "metadata": {},
   "outputs": [
    {
     "ename": "IndentationError",
     "evalue": "unexpected indent (2353023649.py, line 2)",
     "output_type": "error",
     "traceback": [
      "\u001b[0;36m  Cell \u001b[0;32mIn[4], line 2\u001b[0;36m\u001b[0m\n\u001b[0;31m    print (x) #indentation matters\u001b[0m\n\u001b[0m    ^\u001b[0m\n\u001b[0;31mIndentationError\u001b[0m\u001b[0;31m:\u001b[0m unexpected indent\n"
     ]
    }
   ],
   "source": [
    "x=10\n",
    "  print (x) #indentation matters"
   ]
  },
  {
   "cell_type": "code",
   "execution_count": 5,
   "id": "10986354",
   "metadata": {},
   "outputs": [
    {
     "ename": "SyntaxError",
     "evalue": "invalid syntax (40591002.py, line 1)",
     "output_type": "error",
     "traceback": [
      "\u001b[0;36m  Cell \u001b[0;32mIn[5], line 1\u001b[0;36m\u001b[0m\n\u001b[0;31m    if (name == 'Batman') {\u001b[0m\n\u001b[0m                          ^\u001b[0m\n\u001b[0;31mSyntaxError\u001b[0m\u001b[0;31m:\u001b[0m invalid syntax\n"
     ]
    }
   ],
   "source": [
    "if (name == 'Batman') {\n",
    "  print('Hello Hero | Batman!')\n",
    "} else {\n",
    "  print('Hello World!')\n",
    "}\n",
    "#this is the code when working in R: clunky and messy brackets."
   ]
  },
  {
   "cell_type": "markdown",
   "id": "4feaf746",
   "metadata": {},
   "source": [
    "# 1.8 ‘age’ is English, age is a variable."
   ]
  },
  {
   "cell_type": "code",
   "execution_count": 8,
   "id": "2769e1dc",
   "metadata": {},
   "outputs": [],
   "source": [
    "age=24"
   ]
  },
  {
   "cell_type": "code",
   "execution_count": 9,
   "id": "57b43184",
   "metadata": {},
   "outputs": [
    {
     "name": "stdout",
     "output_type": "stream",
     "text": [
      "24\n"
     ]
    }
   ],
   "source": [
    "\n",
    "# Your code here\n",
    "print(age)       # Print the value of the variable age\n",
    "\n"
   ]
  },
  {
   "cell_type": "code",
   "execution_count": 7,
   "id": "b1dd9335",
   "metadata": {},
   "outputs": [
    {
     "name": "stdout",
     "output_type": "stream",
     "text": [
      "age\n"
     ]
    }
   ],
   "source": [
    "print(\"age\")     # Print the English word 'age'"
   ]
  },
  {
   "cell_type": "code",
   "execution_count": 10,
   "id": "2880d845",
   "metadata": {},
   "outputs": [],
   "source": [
    "student_age=100"
   ]
  },
  {
   "cell_type": "code",
   "execution_count": 11,
   "id": "ed45a78f",
   "metadata": {},
   "outputs": [
    {
     "name": "stdout",
     "output_type": "stream",
     "text": [
      "100\n"
     ]
    }
   ],
   "source": [
    "print(student_age)"
   ]
  },
  {
   "cell_type": "code",
   "execution_count": 12,
   "id": "dcc97881",
   "metadata": {},
   "outputs": [
    {
     "name": "stdout",
     "output_type": "stream",
     "text": [
      "student_age\n"
     ]
    }
   ],
   "source": [
    "print('student_age')"
   ]
  },
  {
   "cell_type": "code",
   "execution_count": 13,
   "id": "17bba848",
   "metadata": {},
   "outputs": [
    {
     "name": "stdout",
     "output_type": "stream",
     "text": [
      "You're twenty years old.\n"
     ]
    }
   ],
   "source": [
    "print(\"You're twenty years old.\")"
   ]
  },
  {
   "cell_type": "markdown",
   "id": "20e7c6e4",
   "metadata": {},
   "source": [
    "### 1.9 Escape sequences"
   ]
  },
  {
   "cell_type": "code",
   "execution_count": null,
   "id": "126f9cff",
   "metadata": {},
   "outputs": [],
   "source": [
    "\n",
    "# Your code here\n",
    "print('You\\'re twenty years old.') #\\''\n"
   ]
  },
  {
   "cell_type": "code",
   "execution_count": 15,
   "id": "e1aca1a1",
   "metadata": {},
   "outputs": [
    {
     "name": "stdout",
     "output_type": "stream",
     "text": [
      "A\\B\\C\n"
     ]
    }
   ],
   "source": [
    "print('A\\\\B\\\\C') #\\\\ is backslash"
   ]
  },
  {
   "cell_type": "code",
   "execution_count": 17,
   "id": "2c518d72",
   "metadata": {},
   "outputs": [
    {
     "name": "stdout",
     "output_type": "stream",
     "text": [
      "A\n",
      "B\n",
      "C\n"
     ]
    }
   ],
   "source": [
    "print('A\\nB\\nC') #\\n is new line(line break)"
   ]
  },
  {
   "cell_type": "code",
   "execution_count": 14,
   "id": "a19b0618",
   "metadata": {},
   "outputs": [
    {
     "name": "stdout",
     "output_type": "stream",
     "text": [
      "A\tB\tC\n"
     ]
    }
   ],
   "source": [
    "print('A\\tB\\tC') #\\t is horizontal tab"
   ]
  },
  {
   "cell_type": "markdown",
   "id": "c9f2085a",
   "metadata": {},
   "source": [
    "### 1.10 Brackets"
   ]
  },
  {
   "cell_type": "code",
   "execution_count": 19,
   "id": "36c88b90",
   "metadata": {},
   "outputs": [
    {
     "name": "stdout",
     "output_type": "stream",
     "text": [
      "Hello!\n"
     ]
    }
   ],
   "source": [
    "\n",
    "# Your code here\n",
    "print('Hello!')             # In functions, Python uses ( ) in calls to function."
   ]
  },
  {
   "cell_type": "code",
   "execution_count": 20,
   "id": "7de85c69",
   "metadata": {},
   "outputs": [
    {
     "data": {
      "text/plain": [
       "15"
      ]
     },
     "execution_count": 20,
     "metadata": {},
     "output_type": "execute_result"
    }
   ],
   "source": [
    "(1 + 2) * 5                 # For math, Python uses ( ) for mathematics."
   ]
  },
  {
   "cell_type": "code",
   "execution_count": 21,
   "id": "ef54eda9",
   "metadata": {},
   "outputs": [],
   "source": [
    "py_list = [1, 2, 3, 4, 5]   # A 1D list, Python uses [ ] for lists of data.\n",
    "\n",
    "py_list_2 = [[1, \"A\"],      # A 2D list\n",
    "             [2, \"B\"],\n",
    "             [3, \"C\"],\n",
    "             [4, \"D\"],\n",
    "             [5, \"E\"]]"
   ]
  },
  {
   "cell_type": "code",
   "execution_count": 29,
   "id": "9cf05311",
   "metadata": {},
   "outputs": [
    {
     "name": "stdout",
     "output_type": "stream",
     "text": [
      "2\n"
     ]
    }
   ],
   "source": [
    "print(py_list[1])"
   ]
  },
  {
   "cell_type": "code",
   "execution_count": null,
   "id": "0433c862",
   "metadata": {},
   "outputs": [],
   "source": []
  },
  {
   "cell_type": "code",
   "execution_count": 30,
   "id": "4a01cdc3",
   "metadata": {},
   "outputs": [
    {
     "ename": "TypeError",
     "evalue": "list indices must be integers or slices, not str",
     "output_type": "error",
     "traceback": [
      "\u001b[0;31m---------------------------------------------------------------------------\u001b[0m",
      "\u001b[0;31mTypeError\u001b[0m                                 Traceback (most recent call last)",
      "Cell \u001b[0;32mIn[30], line 1\u001b[0m\n\u001b[0;32m----> 1\u001b[0m \u001b[38;5;28mprint\u001b[39m(\u001b[43mpy_list\u001b[49m\u001b[43m[\u001b[49m\u001b[38;5;124;43m'\u001b[39;49m\u001b[38;5;124;43mE\u001b[39;49m\u001b[38;5;124;43m'\u001b[39;49m\u001b[43m]\u001b[49m)\n",
      "\u001b[0;31mTypeError\u001b[0m: list indices must be integers or slices, not str"
     ]
    }
   ],
   "source": [
    "print(py_list['E'])"
   ]
  },
  {
   "cell_type": "code",
   "execution_count": 23,
   "id": "d76c8ffa",
   "metadata": {},
   "outputs": [],
   "source": [
    "#Python uses { } to store data that use a key-to identify a value. \n",
    "#This means of storing data is called a dictionary.\n",
    "personal_info = {\n",
    "    'Names': 'Batman',\n",
    "    'Real Name': 'Bruce Wayne',\n",
    "    'Age': 55,\n",
    "    'Affiliation': 'Justice League',\n",
    "    'Universe': 'DC'\n",
    "}"
   ]
  },
  {
   "cell_type": "code",
   "execution_count": 24,
   "id": "3462cd30",
   "metadata": {},
   "outputs": [
    {
     "name": "stdout",
     "output_type": "stream",
     "text": [
      "Bruce Wayne\n"
     ]
    }
   ],
   "source": [
    "print(personal_info['Real Name'])"
   ]
  },
  {
   "cell_type": "code",
   "execution_count": 28,
   "id": "d348598e",
   "metadata": {},
   "outputs": [
    {
     "ename": "SyntaxError",
     "evalue": "incomplete input (2440884664.py, line 1)",
     "output_type": "error",
     "traceback": [
      "\u001b[0;36m  Cell \u001b[0;32mIn[28], line 1\u001b[0;36m\u001b[0m\n\u001b[0;31m    print(personal_info('Real Name') #types of brackets\u001b[0m\n\u001b[0m                                                       ^\u001b[0m\n\u001b[0;31mSyntaxError\u001b[0m\u001b[0;31m:\u001b[0m incomplete input\n"
     ]
    }
   ],
   "source": [
    "print(personal_info('Real Name') #types of brackets"
   ]
  },
  {
   "cell_type": "markdown",
   "id": "59236149",
   "metadata": {},
   "source": [
    "## 2 Giving Python superpowers"
   ]
  },
  {
   "cell_type": "markdown",
   "id": "a6c0809e",
   "metadata": {},
   "source": [
    "### 2.1 Packages"
   ]
  },
  {
   "cell_type": "code",
   "execution_count": 31,
   "id": "5a7d6328",
   "metadata": {},
   "outputs": [
    {
     "data": {
      "text/plain": [
       "40.5"
      ]
     },
     "execution_count": 31,
     "metadata": {},
     "output_type": "execute_result"
    }
   ],
   "source": [
    "\n",
    "# Your code here\n",
    "1 * ((2 - 3) + 4) ** 5 / 6"
   ]
  },
  {
   "cell_type": "code",
   "execution_count": 32,
   "id": "520368d4",
   "metadata": {},
   "outputs": [
    {
     "ename": "NameError",
     "evalue": "name 'sqrt' is not defined",
     "output_type": "error",
     "traceback": [
      "\u001b[0;31m---------------------------------------------------------------------------\u001b[0m",
      "\u001b[0;31mNameError\u001b[0m                                 Traceback (most recent call last)",
      "Cell \u001b[0;32mIn[32], line 1\u001b[0m\n\u001b[0;32m----> 1\u001b[0m \u001b[43msqrt\u001b[49m(\u001b[38;5;241m4\u001b[39m)             \u001b[38;5;66;03m# Will NOT work because basic Python is limited\u001b[39;00m\n",
      "\u001b[0;31mNameError\u001b[0m: name 'sqrt' is not defined"
     ]
    }
   ],
   "source": [
    "sqrt(4)             # Will NOT work because basic Python is limited"
   ]
  },
  {
   "cell_type": "code",
   "execution_count": 34,
   "id": "656c9e48",
   "metadata": {},
   "outputs": [],
   "source": [
    "import math         # Adding(importing) the functions\n",
    "                    # of the 'math' package    "
   ]
  },
  {
   "cell_type": "raw",
   "id": "09171241",
   "metadata": {},
   "source": []
  },
  {
   "cell_type": "code",
   "execution_count": 36,
   "id": "59786199",
   "metadata": {},
   "outputs": [
    {
     "data": {
      "text/plain": [
       "2.0"
      ]
     },
     "execution_count": 36,
     "metadata": {},
     "output_type": "execute_result"
    }
   ],
   "source": [
    "math.sqrt(4)"
   ]
  },
  {
   "cell_type": "code",
   "execution_count": 38,
   "id": "bbfecb0c",
   "metadata": {},
   "outputs": [],
   "source": [
    "import numpy as np    # Importing Numpy and giving it an alias np\n",
    "                      # because I am lazy"
   ]
  },
  {
   "cell_type": "code",
   "execution_count": 39,
   "id": "7645c408",
   "metadata": {},
   "outputs": [
    {
     "data": {
      "text/plain": [
       "2.0"
      ]
     },
     "execution_count": 39,
     "metadata": {},
     "output_type": "execute_result"
    }
   ],
   "source": [
    "np.sqrt(4)"
   ]
  },
  {
   "cell_type": "code",
   "execution_count": 40,
   "id": "4813d90f",
   "metadata": {},
   "outputs": [
    {
     "data": {
      "text/plain": [
       "array([2., 3., 4.])"
      ]
     },
     "execution_count": 40,
     "metadata": {},
     "output_type": "execute_result"
    }
   ],
   "source": [
    "np.sqrt([4, 9, 16])"
   ]
  },
  {
   "cell_type": "markdown",
   "id": "4e1cd1cb",
   "metadata": {},
   "source": [
    "### 2.2 The dot (.)"
   ]
  },
  {
   "cell_type": "code",
   "execution_count": 41,
   "id": "67eeddfc",
   "metadata": {},
   "outputs": [
    {
     "data": {
      "text/plain": [
       "2.0"
      ]
     },
     "execution_count": 41,
     "metadata": {},
     "output_type": "execute_result"
    }
   ],
   "source": [
    "\n",
    "# Your code here\n",
    "math. sqrt (4)\n",
    "np. sqrt (4)"
   ]
  },
  {
   "cell_type": "code",
   "execution_count": 42,
   "id": "c2d41bc9",
   "metadata": {},
   "outputs": [
    {
     "data": {
      "text/plain": [
       "['I', 'am', 'Batman']"
      ]
     },
     "execution_count": 42,
     "metadata": {},
     "output_type": "execute_result"
    }
   ],
   "source": [
    "\"I am Batman\".split() \n",
    "#Everything in Python (e.g. numbers, letters) has functions and attributes that belong to them.\n",
    "#We can access them using the dot. For example, the following will split the sentence into words."
   ]
  },
  {
   "cell_type": "code",
   "execution_count": 45,
   "id": "fe1fe1d0",
   "metadata": {},
   "outputs": [
    {
     "data": {
      "text/plain": [
       "['I', 'am', 'Superman', 'and', 'Wonder', 'Woman']"
      ]
     },
     "execution_count": 45,
     "metadata": {},
     "output_type": "execute_result"
    }
   ],
   "source": [
    "'I am Superman and Wonder Woman'.split()"
   ]
  },
  {
   "cell_type": "code",
   "execution_count": 43,
   "id": "c3faee77",
   "metadata": {},
   "outputs": [
    {
     "ename": "SyntaxError",
     "evalue": "invalid decimal literal (3897031440.py, line 1)",
     "output_type": "error",
     "traceback": [
      "\u001b[0;36m  Cell \u001b[0;32mIn[43], line 1\u001b[0;36m\u001b[0m\n\u001b[0;31m    1234.split()\u001b[0m\n\u001b[0m        ^\u001b[0m\n\u001b[0;31mSyntaxError\u001b[0m\u001b[0;31m:\u001b[0m invalid decimal literal\n"
     ]
    }
   ],
   "source": [
    "1234.split() #However, the following will not work because having a split() function for numbers makes no sense."
   ]
  },
  {
   "cell_type": "markdown",
   "id": "e8d8bdc2",
   "metadata": {},
   "source": [
    "## Exercise 1 :  Total recall?"
   ]
  },
  {
   "cell_type": "code",
   "execution_count": 46,
   "id": "466ccaad",
   "metadata": {},
   "outputs": [],
   "source": [
    "\n",
    "\n",
    "\n",
    "# Your solution here\n",
    "\n",
    "\n"
   ]
  },
  {
   "cell_type": "markdown",
   "id": "c80291af",
   "metadata": {},
   "source": [
    "Function"
   ]
  },
  {
   "cell_type": "markdown",
   "id": "9f7ce4ef",
   "metadata": {},
   "source": [
    "Indentation"
   ]
  },
  {
   "cell_type": "markdown",
   "id": "34fa3146",
   "metadata": {},
   "source": [
    "if, else function"
   ]
  },
  {
   "cell_type": "markdown",
   "id": "4104a729",
   "metadata": {},
   "source": [
    "= != =="
   ]
  },
  {
   "cell_type": "markdown",
   "id": "a7ce59eb",
   "metadata": {},
   "source": [
    "case sensitivity"
   ]
  },
  {
   "cell_type": "markdown",
   "id": "57cb8843",
   "metadata": {},
   "source": [
    "comments"
   ]
  },
  {
   "cell_type": "markdown",
   "id": "d40bc6fa",
   "metadata": {},
   "source": [
    "*brackets*"
   ]
  },
  {
   "cell_type": "markdown",
   "id": "c146ec81",
   "metadata": {},
   "source": [
    "*escape functions*"
   ]
  },
  {
   "cell_type": "markdown",
   "id": "bcfebf0a",
   "metadata": {},
   "source": [
    "*english vs variable*"
   ]
  },
  {
   "cell_type": "markdown",
   "id": "b3c9157a",
   "metadata": {},
   "source": [
    "*python is interpreted*"
   ]
  },
  {
   "cell_type": "markdown",
   "id": "f85cbc34",
   "metadata": {},
   "source": [
    "*packages* #specifically math. and numpy."
   ]
  },
  {
   "cell_type": "markdown",
   "id": "f957fbe9",
   "metadata": {},
   "source": [
    "*the dot*"
   ]
  },
  {
   "cell_type": "markdown",
   "id": "8610a1c9",
   "metadata": {},
   "source": [
    "## Exercise 2 :  Debug me"
   ]
  },
  {
   "cell_type": "code",
   "execution_count": 50,
   "id": "9338018c",
   "metadata": {},
   "outputs": [
    {
     "ename": "SyntaxError",
     "evalue": "invalid syntax (2802018617.py, line 2)",
     "output_type": "error",
     "traceback": [
      "\u001b[0;36m  Cell \u001b[0;32mIn[50], line 2\u001b[0;36m\u001b[0m\n\u001b[0;31m    Qn:\u001b[0m\n\u001b[0m       ^\u001b[0m\n\u001b[0;31mSyntaxError\u001b[0m\u001b[0;31m:\u001b[0m invalid syntax\n"
     ]
    }
   ],
   "source": [
    "\n",
    "\n",
    "\n",
    "# Your solution here\n",
    "Qn:\n",
    "    x, y = 3, 4\n",
    "        z = sqrt(x*2 + y**2)\n",
    "    Print(x, y, z)\n",
    "\n"
   ]
  },
  {
   "cell_type": "code",
   "execution_count": 57,
   "id": "7cfce8bc",
   "metadata": {},
   "outputs": [
    {
     "name": "stdout",
     "output_type": "stream",
     "text": [
      "3 4 5.0\n"
     ]
    }
   ],
   "source": [
    "x,y=3,4 #x,y=(3,4) works too\n",
    "z=np.sqrt(x**2+y**2)\n",
    "print(x,y,z)"
   ]
  },
  {
   "cell_type": "markdown",
   "id": "5679cce1",
   "metadata": {},
   "source": [
    "## Exercise 3 :  In your own words"
   ]
  },
  {
   "cell_type": "code",
   "execution_count": null,
   "id": "c4631214",
   "metadata": {},
   "outputs": [],
   "source": [
    "\n",
    "\n",
    "\n",
    "# Your solution here\n",
    "\n",
    "\n"
   ]
  },
  {
   "cell_type": "markdown",
   "id": "35b43eca",
   "metadata": {},
   "source": [
    "| * | Term | Description|\n",
    "| :--- | --- | ---: |\n",
    "| 1 | Function | A function performs a task and gives an output |\n",
    "| 2 | Argument | Function accepts arguments and processes it. Requires brackets to pass arguments to the function.|\n",
    "| 3 | Comments | Comments are notes which does not appear when the code is run |\n",
    "| 4 | Indentations | Indentations give different layers to code, separate 'True' and 'False' blocls |\n",
    "| 5 | Packages | Packages containing functions which python does not have can be imported by \"import xxx as yyy\", where the y may be a short form when typing out packages in the future. To use it, type \"xxx.function in package\" |\n",
    "| 6 | . | The dot indicated ownership. xxx.yyy where xxx is the \"owner\""
   ]
  },
  {
   "cell_type": "markdown",
   "id": "3c95da98",
   "metadata": {},
   "source": [
    "## Exercise 4 :  More than one way to divide"
   ]
  },
  {
   "cell_type": "code",
   "execution_count": null,
   "id": "3ab637cd",
   "metadata": {},
   "outputs": [],
   "source": [
    "\n",
    "\n",
    "\n",
    "# Your solution here\n",
    "\n",
    "\n"
   ]
  },
  {
   "cell_type": "code",
   "execution_count": 58,
   "id": "0d052dee",
   "metadata": {},
   "outputs": [
    {
     "data": {
      "text/plain": [
       "2.5"
      ]
     },
     "execution_count": 58,
     "metadata": {},
     "output_type": "execute_result"
    }
   ],
   "source": [
    "5/2           # What do I do?\n",
    "            #Normal 5 divided by 2"
   ]
  },
  {
   "cell_type": "code",
   "execution_count": 59,
   "id": "c4972315",
   "metadata": {},
   "outputs": [
    {
     "data": {
      "text/plain": [
       "2"
      ]
     },
     "execution_count": 59,
     "metadata": {},
     "output_type": "execute_result"
    }
   ],
   "source": [
    "5//2          # What do I do?\n",
    "             #Floor function-divide then take the lower integer closest to it\n",
    "             # 5/2=2.5 --> lower inter of 2.5=2"
   ]
  },
  {
   "cell_type": "code",
   "execution_count": 60,
   "id": "92e1c9c0",
   "metadata": {},
   "outputs": [
    {
     "data": {
      "text/plain": [
       "1"
      ]
     },
     "execution_count": 60,
     "metadata": {},
     "output_type": "execute_result"
    }
   ],
   "source": [
    "5%2           # What do I do?\n",
    "              # Modulo-remainder after dividing\n",
    "              #5/2= 2 remainder 1 "
   ]
  },
  {
   "cell_type": "code",
   "execution_count": null,
   "id": "32e83987",
   "metadata": {},
   "outputs": [],
   "source": []
  }
 ],
 "metadata": {
  "kernelspec": {
   "display_name": "Python 3 (ipykernel)",
   "language": "python",
   "name": "python3"
  },
  "language_info": {
   "codemirror_mode": {
    "name": "ipython",
    "version": 3
   },
   "file_extension": ".py",
   "mimetype": "text/x-python",
   "name": "python",
   "nbconvert_exporter": "python",
   "pygments_lexer": "ipython3",
   "version": "3.10.8"
  },
  "toc": {
   "base_numbering": 1,
   "nav_menu": {},
   "number_sections": true,
   "sideBar": true,
   "skip_h1_title": false,
   "title_cell": "Table of Contents",
   "title_sidebar": "Contents",
   "toc_cell": false,
   "toc_position": {},
   "toc_section_display": true,
   "toc_window_display": false
  },
  "vscode": {
   "interpreter": {
    "hash": "31f2aee4e71d21fbe5cf8b01ff0e069b9275f58929596ceb00d14d90e3e16cd6"
   }
  }
 },
 "nbformat": 4,
 "nbformat_minor": 5
}
