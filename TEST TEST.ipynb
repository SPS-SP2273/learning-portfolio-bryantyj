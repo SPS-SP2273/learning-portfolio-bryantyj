{
 "cells": [
  {
   "cell_type": "code",
   "execution_count": 12,
   "id": "28bdbcea",
   "metadata": {},
   "outputs": [
    {
     "data": {
      "text/plain": [
       "0.7390851332"
      ]
     },
     "execution_count": 12,
     "metadata": {},
     "output_type": "execute_result"
    }
   ],
   "source": [
    "import numpy as np\n",
    "\n",
    "def get_root(x_left, x_right, f):                    \n",
    "\n",
    "    x_midpoint = (x_left + x_right) / 2               \n",
    "    x_left_answer = f(x_left)                              \n",
    "    x_midpoint_answer = f(x_midpoint) \n",
    "    \n",
    "    assert x_left != x_right , 'Error poop'\n",
    "    if abs(x_left - x_right) < 1e-11:                \n",
    "        return round(x_midpoint, 10)\n",
    "    elif(x_left_answer * x_midpoint_answer) > 0:       \n",
    "        return get_root(x_midpoint, x_right, f)    \n",
    "    else: \n",
    "        return get_root(x_left, x_midpoint, f)\n",
    "                                                       \n",
    "get_root(0.5, 0.9, lambda x : np.cos(x)-x)"
   ]
  },
  {
   "cell_type": "code",
   "execution_count": null,
   "id": "f4dbd9c5",
   "metadata": {},
   "outputs": [],
   "source": []
  }
 ],
 "metadata": {
  "kernelspec": {
   "display_name": "Python 3 (ipykernel)",
   "language": "python",
   "name": "python3"
  },
  "language_info": {
   "codemirror_mode": {
    "name": "ipython",
    "version": 3
   },
   "file_extension": ".py",
   "mimetype": "text/x-python",
   "name": "python",
   "nbconvert_exporter": "python",
   "pygments_lexer": "ipython3",
   "version": "3.10.8"
  }
 },
 "nbformat": 4,
 "nbformat_minor": 5
}
